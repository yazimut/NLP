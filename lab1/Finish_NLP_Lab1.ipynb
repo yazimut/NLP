{
  "nbformat": 4,
  "nbformat_minor": 0,
  "metadata": {
    "accelerator": "GPU",
    "colab": {
      "name": "\"NLP_Lab1.ipynb\"",
      "provenance": [],
      "collapsed_sections": [
        "b5S1fZySXiMG",
        "zMGPsBu8XnSN",
        "3AmusBpIXyQ_",
        "6MhtDCxlaSBG",
        "o7xpePcnRTMg",
        "YeYKT1r_ax7T"
      ],
      "toc_visible": true
    },
    "kernelspec": {
      "display_name": "Python 3",
      "language": "python",
      "name": "python3"
    },
    "language_info": {
      "codemirror_mode": {
        "name": "ipython",
        "version": 3
      },
      "file_extension": ".py",
      "mimetype": "text/x-python",
      "name": "python",
      "nbconvert_exporter": "python",
      "pygments_lexer": "ipython3",
      "version": "3.8.3"
    }
  },
  "cells": [
    {
      "cell_type": "markdown",
      "metadata": {
        "id": "JDGVszqXBEXZ"
      },
      "source": [
        "Source \"train.parquet\" and \"test.parquet\" had been recompressed \n",
        "with engine \"fastparquet\" and compression \"gzip\". \n",
        "Original \"pyarrow\" with \"snappy\" crashes Jupyter )(\n",
        "\"fastparquet\" with \"gzip\" properlly works in Jupyter as well, \n",
        "as in Google Collab"
      ]
    },
    {
      "cell_type": "markdown",
      "metadata": {
        "id": "xVp8vT2-BEXZ"
      },
      "source": [
        "# Prerequisites"
      ]
    },
    {
      "cell_type": "code",
      "metadata": {
        "scrolled": true,
        "id": "LD6YIj71BEXZ"
      },
      "source": [
        "!pip install --upgrade numpy pandas matplotlib fastparquet nltk sklearn gensim"
      ],
      "execution_count": null,
      "outputs": []
    },
    {
      "cell_type": "code",
      "metadata": {
        "id": "ZEmbpVDM4wyR"
      },
      "source": [
        "                                        import re\n",
        "                                        import numpy\n",
        "                                        import pandas\n",
        "from    matplotlib                      import pyplot\n",
        "                                        import fastparquet\n",
        "                                        import nltk\n",
        "from    nltk.corpus                     import stopwords\n",
        "from    nltk.stem                       import WordNetLemmatizer\n",
        "from    nltk.tokenize                   import WordPunctTokenizer\n",
        "from    sklearn.preprocessing           import OneHotEncoder\n",
        "from    sklearn.feature_extraction.text import TfidfVectorizer\n",
        "from    sklearn.feature_extraction.text import CountVectorizer\n",
        "from    gensim.models                   import Word2Vec\n",
        "from    gensim.models.fasttext          import FastText\n",
        "from    gensim.models                   import KeyedVectors"
      ],
      "execution_count": 5,
      "outputs": []
    },
    {
      "cell_type": "code",
      "metadata": {
        "id": "n7ELshjMSWYp"
      },
      "source": [
        "# Use this variable to suppress output\n",
        "DevNull = 0"
      ],
      "execution_count": null,
      "outputs": []
    },
    {
      "cell_type": "code",
      "metadata": {
        "colab": {
          "base_uri": "https://localhost:8080/"
        },
        "id": "Yi7H3gGZddPv",
        "scrolled": false,
        "outputId": "c1cc67fc-da4f-4509-81eb-eda319ef188c"
      },
      "source": [
        "nltk.download('wordnet')\n",
        "nltk.download('stopwords')"
      ],
      "execution_count": null,
      "outputs": [
        {
          "output_type": "stream",
          "text": [
            "[nltk_data] Downloading package wordnet to\n",
            "[nltk_data]     C:\\Users\\azimut\\AppData\\Roaming\\nltk_data...\n",
            "[nltk_data]   Package wordnet is already up-to-date!\n",
            "[nltk_data] Downloading package stopwords to\n",
            "[nltk_data]     C:\\Users\\azimut\\AppData\\Roaming\\nltk_data...\n",
            "[nltk_data]   Package stopwords is already up-to-date!\n"
          ],
          "name": "stderr"
        },
        {
          "output_type": "execute_result",
          "data": {
            "text/plain": [
              "True"
            ]
          },
          "metadata": {
            "tags": []
          },
          "execution_count": 6
        }
      ]
    },
    {
      "cell_type": "code",
      "metadata": {
        "id": "5f6f6SV8ow3s"
      },
      "source": [
        "Path = \"/content/drive/MyDrive/NLP1/\""
      ],
      "execution_count": 6,
      "outputs": []
    },
    {
      "cell_type": "code",
      "metadata": {
        "id": "3HzHPjC6BEXa"
      },
      "source": [
        "def ReadParquet(FName):\n",
        "    return pandas.read_parquet(FName, engine = 'fastparquet')\n",
        "\n",
        "def SaveParquet(DFrame, FName):\n",
        "    DFrame.to_parquet(FName, engine = 'fastparquet', compression = 'gzip')"
      ],
      "execution_count": 7,
      "outputs": []
    },
    {
      "cell_type": "markdown",
      "metadata": {
        "id": "rGNSD-L_BEXa"
      },
      "source": [
        "# Reading source data"
      ]
    },
    {
      "cell_type": "code",
      "metadata": {
        "colab": {
          "base_uri": "https://localhost:8080/"
        },
        "id": "_SXezqFy6RTt",
        "outputId": "649797d2-beea-4e80-9c0e-ed9d7e65b02c"
      },
      "source": [
        "TestDF = ReadParquet(Path + 'test.parquet').reset_index()\n",
        "TestDF.shape"
      ],
      "execution_count": null,
      "outputs": [
        {
          "output_type": "execute_result",
          "data": {
            "text/plain": [
              "(12000, 4)"
            ]
          },
          "metadata": {
            "tags": []
          },
          "execution_count": 37
        }
      ]
    },
    {
      "cell_type": "code",
      "metadata": {
        "colab": {
          "base_uri": "https://localhost:8080/",
          "height": 289
        },
        "id": "cezttQHV_e8H",
        "outputId": "b4605e2c-5062-4425-bc32-d6c5e80b3f43"
      },
      "source": [
        "TestDF.head()"
      ],
      "execution_count": null,
      "outputs": [
        {
          "output_type": "execute_result",
          "data": {
            "text/html": [
              "<div>\n",
              "<style scoped>\n",
              "    .dataframe tbody tr th:only-of-type {\n",
              "        vertical-align: middle;\n",
              "    }\n",
              "\n",
              "    .dataframe tbody tr th {\n",
              "        vertical-align: top;\n",
              "    }\n",
              "\n",
              "    .dataframe thead th {\n",
              "        text-align: right;\n",
              "    }\n",
              "</style>\n",
              "<table border=\"1\" class=\"dataframe\">\n",
              "  <thead>\n",
              "    <tr style=\"text-align: right;\">\n",
              "      <th></th>\n",
              "      <th>Id</th>\n",
              "      <th>Body</th>\n",
              "      <th>Tags</th>\n",
              "      <th>Title</th>\n",
              "    </tr>\n",
              "  </thead>\n",
              "  <tbody>\n",
              "    <tr>\n",
              "      <th>0</th>\n",
              "      <td>46785369</td>\n",
              "      <td>I was given a decision tree with sample data i...</td>\n",
              "      <td>&lt;math&gt;&lt;machine-learning&gt;&lt;artificial-intelligen...</td>\n",
              "      <td>Desecion trees ended up with same given tree a...</td>\n",
              "    </tr>\n",
              "    <tr>\n",
              "      <th>1</th>\n",
              "      <td>38908667</td>\n",
              "      <td>&lt;p&gt;I am moving a test application over to Xcod...</td>\n",
              "      <td>&lt;ios&gt;&lt;swift&gt;&lt;swift3&gt;&lt;xcode8&gt;&lt;nserror&gt;</td>\n",
              "      <td>Value of type 'Error' has no member 'code'</td>\n",
              "    </tr>\n",
              "    <tr>\n",
              "      <th>2</th>\n",
              "      <td>44703012</td>\n",
              "      <td>&lt;p&gt;I would like to be able to perform linting ...</td>\n",
              "      <td>&lt;jenkins&gt;&lt;jenkins-pipeline&gt;</td>\n",
              "      <td>How do I lint Jenkins pipelines from the comma...</td>\n",
              "    </tr>\n",
              "    <tr>\n",
              "      <th>3</th>\n",
              "      <td>34910435</td>\n",
              "      <td>&lt;p&gt;I’m using &lt;a href=\"https://github.com/ftlab...</td>\n",
              "      <td>&lt;javascript&gt;&lt;css&gt;&lt;mobile-safari&gt;&lt;fastclick.js&gt;...</td>\n",
              "      <td>Is there a way to prevent fastclick from firin...</td>\n",
              "    </tr>\n",
              "    <tr>\n",
              "      <th>4</th>\n",
              "      <td>51632121</td>\n",
              "      <td>I have some 5 Test cases and I want them to ke...</td>\n",
              "      <td>&lt;android&gt;&lt;testing&gt;&lt;appium&gt;&lt;katalon-studio&gt;</td>\n",
              "      <td>How to loop test cases in katalon Studio?</td>\n",
              "    </tr>\n",
              "  </tbody>\n",
              "</table>\n",
              "</div>"
            ],
            "text/plain": [
              "         Id                                               Body  \\\n",
              "0  46785369  I was given a decision tree with sample data i...   \n",
              "1  38908667  <p>I am moving a test application over to Xcod...   \n",
              "2  44703012  <p>I would like to be able to perform linting ...   \n",
              "3  34910435  <p>I’m using <a href=\"https://github.com/ftlab...   \n",
              "4  51632121  I have some 5 Test cases and I want them to ke...   \n",
              "\n",
              "                                                Tags  \\\n",
              "0  <math><machine-learning><artificial-intelligen...   \n",
              "1              <ios><swift><swift3><xcode8><nserror>   \n",
              "2                        <jenkins><jenkins-pipeline>   \n",
              "3  <javascript><css><mobile-safari><fastclick.js>...   \n",
              "4         <android><testing><appium><katalon-studio>   \n",
              "\n",
              "                                               Title  \n",
              "0  Desecion trees ended up with same given tree a...  \n",
              "1         Value of type 'Error' has no member 'code'  \n",
              "2  How do I lint Jenkins pipelines from the comma...  \n",
              "3  Is there a way to prevent fastclick from firin...  \n",
              "4          How to loop test cases in katalon Studio?  "
            ]
          },
          "metadata": {
            "tags": []
          },
          "execution_count": 38
        }
      ]
    },
    {
      "cell_type": "code",
      "metadata": {
        "colab": {
          "base_uri": "https://localhost:8080/"
        },
        "id": "uRAJZgTd4zXx",
        "outputId": "96815367-29a4-4a9f-d1b1-c78a65b8b6b4"
      },
      "source": [
        "TrainDF = ReadParquet(Path + 'train.parquet').reset_index()\n",
        "TrainDF.shape"
      ],
      "execution_count": null,
      "outputs": [
        {
          "output_type": "execute_result",
          "data": {
            "text/plain": [
              "(48000, 5)"
            ]
          },
          "metadata": {
            "tags": []
          },
          "execution_count": 39
        }
      ]
    },
    {
      "cell_type": "code",
      "metadata": {
        "colab": {
          "base_uri": "https://localhost:8080/",
          "height": 289
        },
        "id": "sfLLZcii_iu3",
        "outputId": "36e6f89e-1850-4995-eb1b-f009295338d0"
      },
      "source": [
        "TrainDF.head()"
      ],
      "execution_count": null,
      "outputs": [
        {
          "output_type": "execute_result",
          "data": {
            "text/html": [
              "<div>\n",
              "<style scoped>\n",
              "    .dataframe tbody tr th:only-of-type {\n",
              "        vertical-align: middle;\n",
              "    }\n",
              "\n",
              "    .dataframe tbody tr th {\n",
              "        vertical-align: top;\n",
              "    }\n",
              "\n",
              "    .dataframe thead th {\n",
              "        text-align: right;\n",
              "    }\n",
              "</style>\n",
              "<table border=\"1\" class=\"dataframe\">\n",
              "  <thead>\n",
              "    <tr style=\"text-align: right;\">\n",
              "      <th></th>\n",
              "      <th>Id</th>\n",
              "      <th>Body</th>\n",
              "      <th>Tags</th>\n",
              "      <th>Title</th>\n",
              "      <th>target</th>\n",
              "    </tr>\n",
              "  </thead>\n",
              "  <tbody>\n",
              "    <tr>\n",
              "      <th>0</th>\n",
              "      <td>34862324</td>\n",
              "      <td>Algorithmm:\\r\\n\\r\\n**input :** Graph G\\r\\n\\r\\n...</td>\n",
              "      <td>&lt;java&gt;&lt;algorithm&gt;&lt;graph-algorithm&gt;</td>\n",
              "      <td>I am implementing a Minimum Spanning Forrest a...</td>\n",
              "      <td>2</td>\n",
              "    </tr>\n",
              "    <tr>\n",
              "      <th>1</th>\n",
              "      <td>47303682</td>\n",
              "      <td>While converting the data frame to HTML, Date ...</td>\n",
              "      <td>&lt;html&gt;&lt;r&gt;&lt;dataframe&gt;</td>\n",
              "      <td>R Studio: Date is getting converted to number,...</td>\n",
              "      <td>2</td>\n",
              "    </tr>\n",
              "    <tr>\n",
              "      <th>2</th>\n",
              "      <td>46431243</td>\n",
              "      <td>&lt;p&gt;This should be an easy one, but somehow I c...</td>\n",
              "      <td>&lt;python&gt;&lt;pandas&gt;&lt;dataframe&gt;&lt;pandas-groupby&gt;</td>\n",
              "      <td>Pandas - dataframe groupby - how to get sum of...</td>\n",
              "      <td>0</td>\n",
              "    </tr>\n",
              "    <tr>\n",
              "      <th>3</th>\n",
              "      <td>45306324</td>\n",
              "      <td>&lt;p&gt;Let say I have a component in Angular 2 tha...</td>\n",
              "      <td>&lt;angular&gt;&lt;typescript&gt;&lt;rxjs&gt;</td>\n",
              "      <td>Casting results from Observable.forkJoin to th...</td>\n",
              "      <td>0</td>\n",
              "    </tr>\n",
              "    <tr>\n",
              "      <th>4</th>\n",
              "      <td>49479547</td>\n",
              "      <td>&lt;p&gt;I'm setting a var using \\n&lt;code&gt;set TEST_VA...</td>\n",
              "      <td>&lt;c&gt;&lt;windows&gt;&lt;batch-file&gt;</td>\n",
              "      <td>Environment variable set in batch file cannot ...</td>\n",
              "      <td>1</td>\n",
              "    </tr>\n",
              "  </tbody>\n",
              "</table>\n",
              "</div>"
            ],
            "text/plain": [
              "         Id                                               Body  \\\n",
              "0  34862324  Algorithmm:\\r\\n\\r\\n**input :** Graph G\\r\\n\\r\\n...   \n",
              "1  47303682  While converting the data frame to HTML, Date ...   \n",
              "2  46431243  <p>This should be an easy one, but somehow I c...   \n",
              "3  45306324  <p>Let say I have a component in Angular 2 tha...   \n",
              "4  49479547  <p>I'm setting a var using \\n<code>set TEST_VA...   \n",
              "\n",
              "                                          Tags  \\\n",
              "0           <java><algorithm><graph-algorithm>   \n",
              "1                         <html><r><dataframe>   \n",
              "2  <python><pandas><dataframe><pandas-groupby>   \n",
              "3                  <angular><typescript><rxjs>   \n",
              "4                     <c><windows><batch-file>   \n",
              "\n",
              "                                               Title  target  \n",
              "0  I am implementing a Minimum Spanning Forrest a...       2  \n",
              "1  R Studio: Date is getting converted to number,...       2  \n",
              "2  Pandas - dataframe groupby - how to get sum of...       0  \n",
              "3  Casting results from Observable.forkJoin to th...       0  \n",
              "4  Environment variable set in batch file cannot ...       1  "
            ]
          },
          "metadata": {
            "tags": []
          },
          "execution_count": 40
        }
      ]
    },
    {
      "cell_type": "code",
      "metadata": {
        "colab": {
          "base_uri": "https://localhost:8080/",
          "height": 277
        },
        "id": "NTc9WG4aMqaM",
        "outputId": "88afacc1-8370-4bd4-8b76-2392827e48b8"
      },
      "source": [
        "DevNull = TrainDF[\"target\"].value_counts().plot.pie(subplots = True, legend = True, autopct = '%2.3f%%', title = \"Отношение классов\")"
      ],
      "execution_count": null,
      "outputs": [
        {
          "output_type": "display_data",
          "data": {
            "image/png": "[encoded data removed]",
            "text/plain": [
              "<Figure size 432x288 with 1 Axes>"
            ]
          },
          "metadata": {
            "tags": []
          }
        }
      ]
    },
    {
      "cell_type": "markdown",
      "metadata": {
        "id": "1IMSjkq868c3"
      },
      "source": [
        "# Preprocessing data"
      ]
    },
    {
      "cell_type": "markdown",
      "metadata": {
        "id": "b5S1fZySXiMG"
      },
      "source": [
        "## Removing punctuation and extra spaces"
      ]
    },
    {
      "cell_type": "code",
      "metadata": {
        "colab": {
          "base_uri": "https://localhost:8080/"
        },
        "id": "1GX6oide6eox",
        "outputId": "44196b85-3bf2-43a2-d8c2-13722a57880d"
      },
      "source": [
        "TestDF[\"Text\"] = TestDF.Body + \" \" + TestDF.Tags + \" \" + TestDF.Title\n",
        "TestDF[\"Text\"] = TestDF[\"Text\"].apply(lambda text: re.sub(r'[^(a-zA-Z)\\s]', ' ', text))\n",
        "TestDF[\"Text\"] = TestDF[\"Text\"].apply(lambda text: re.sub('^\\s+|\\n|\\r|\\s+$', ' ', text))\n",
        "TestDF[\"Text\"] = TestDF[\"Text\"].apply(lambda text: re.sub('\\ {2,}', ' ', text))\n",
        "TestDF[\"Text\"][0]"
      ],
      "execution_count": null,
      "outputs": [
        {
          "output_type": "execute_result",
          "data": {
            "text/plain": [
              "'I was given a decision tree with sample data in class to solve After computing the gaining splitting tree with the sample data provided I ended up with the same tree that was in the question What does that mean Can someone explain what happened there math machine learning artificial intelligence decision tree entropy Desecion trees ended up with same given tree after gain split computation '"
            ]
          },
          "metadata": {
            "tags": []
          },
          "execution_count": 42
        }
      ]
    },
    {
      "cell_type": "code",
      "metadata": {
        "colab": {
          "base_uri": "https://localhost:8080/"
        },
        "id": "rRdiN8iVDosU",
        "outputId": "4468300d-b60c-4487-df6e-ea4ca88da78f"
      },
      "source": [
        "TrainDF[\"Text\"] = TrainDF.Body + \" \" + TrainDF.Tags + \" \" + TrainDF.Title\n",
        "TrainDF[\"Text\"] = TrainDF[\"Text\"].apply(lambda text: re.sub(r'[^(a-zA-Z)\\s]', ' ', text))\n",
        "TrainDF[\"Text\"] = TrainDF[\"Text\"].apply(lambda text: re.sub('^\\s+|\\n|\\r|\\s+$', ' ', text))\n",
        "TrainDF[\"Text\"] = TrainDF[\"Text\"].apply(lambda text: re.sub('\\ {2,}', ' ', text))\n",
        "TrainDF[\"Text\"][0]"
      ],
      "execution_count": null,
      "outputs": [
        {
          "output_type": "execute_result",
          "data": {
            "text/plain": [
              "'Algorithmm input Graph G output Set of MSTs T begin T null E G Edges for all vertices in G Create a tree t having single vertex b add t to T end for repeat Find an edge e E having minimum weight such that one end belongs to t T and the other end does not belongs to any of the trees in T Add e to t until e NULL I m stuck on the logic for the highlighted block I ve used simple objects for vertex edge and tree And for their sets used array of Objects java algorithm graph algorithm I am implementing a Minimum Spanning Forrest algorihm in java But stuck on how to write a loop'"
            ]
          },
          "metadata": {
            "tags": []
          },
          "execution_count": 43
        }
      ]
    },
    {
      "cell_type": "markdown",
      "metadata": {
        "id": "zMGPsBu8XnSN"
      },
      "source": [
        "## Checking for invalid values (NA and Null)"
      ]
    },
    {
      "cell_type": "code",
      "metadata": {
        "colab": {
          "base_uri": "https://localhost:8080/"
        },
        "id": "c1EbZhHtOBAt",
        "outputId": "5ebde7fd-8d99-4c57-be9d-4a7b4949f616"
      },
      "source": [
        "print(\"TestDF:\")\n",
        "print(\" ID:\")\n",
        "print(\"  NA = \" + str(TestDF[\"Id\"].isna().sum()))\n",
        "print(\"  Null = \" + str(TestDF[\"Id\"].isnull().sum()))"
      ],
      "execution_count": null,
      "outputs": [
        {
          "output_type": "stream",
          "text": [
            "TestDF:\n",
            " ID:\n",
            "  NA = 0\n",
            "  Null = 0\n"
          ],
          "name": "stdout"
        }
      ]
    },
    {
      "cell_type": "code",
      "metadata": {
        "colab": {
          "base_uri": "https://localhost:8080/"
        },
        "id": "mDq32oHnPVtO",
        "outputId": "8b8729de-ab94-47e2-e84c-4ca6b4130a98"
      },
      "source": [
        "print(\"TrainDF:\")\n",
        "print(\" ID:\")\n",
        "print(\"  NA = \" + str(TrainDF[\"Id\"].isna().sum()))\n",
        "print(\"  Null = \" + str(TrainDF[\"Id\"].isnull().sum()))\n",
        "print(\" target:\")\n",
        "print(\"  NA = \" + str(TrainDF[\"target\"].isna().sum()))\n",
        "print(\"  Null = \" + str(TrainDF[\"target\"].isnull().sum()))"
      ],
      "execution_count": null,
      "outputs": [
        {
          "output_type": "stream",
          "text": [
            "TrainDF:\n",
            " ID:\n",
            "  NA = 0\n",
            "  Null = 0\n",
            " target:\n",
            "  NA = 0\n",
            "  Null = 0\n"
          ],
          "name": "stdout"
        }
      ]
    },
    {
      "cell_type": "markdown",
      "metadata": {
        "id": "XwnEMckrQxEC"
      },
      "source": [
        "No invalid values :)"
      ]
    },
    {
      "cell_type": "markdown",
      "metadata": {
        "id": "3AmusBpIXyQ_"
      },
      "source": [
        "## Tokenizing"
      ]
    },
    {
      "cell_type": "code",
      "metadata": {
        "colab": {
          "base_uri": "https://localhost:8080/"
        },
        "id": "ACew-PCGX1fd",
        "outputId": "980ac1ce-d43d-4b52-c192-ac5ffd22df63"
      },
      "source": [
        "Tokenizer = WordPunctTokenizer()\n",
        "TestDF[\"Text\"] = TestDF[\"Text\"].apply(lambda text: Tokenizer.tokenize(text.lower()))\n",
        "TestDF[\"Text\"].head()"
      ],
      "execution_count": null,
      "outputs": [
        {
          "output_type": "execute_result",
          "data": {
            "text/plain": [
              "0    [i, was, given, a, decision, tree, with, sampl...\n",
              "1    [p, i, am, moving, a, test, application, over,...\n",
              "2    [p, i, would, like, to, be, able, to, perform,...\n",
              "3    [p, i, m, using, a, href, https, github, com, ...\n",
              "4    [i, have, some, test, cases, and, i, want, the...\n",
              "Name: Text, dtype: object"
            ]
          },
          "metadata": {
            "tags": []
          },
          "execution_count": 46
        }
      ]
    },
    {
      "cell_type": "code",
      "metadata": {
        "colab": {
          "base_uri": "https://localhost:8080/"
        },
        "id": "C0SnVeVAZ9TE",
        "outputId": "f438aa73-6510-4ae9-cfbb-e27d3a752ca3"
      },
      "source": [
        "TrainDF[\"Text\"] = TrainDF[\"Text\"].apply(lambda text: Tokenizer.tokenize(text.lower()))\n",
        "TrainDF[\"Text\"].head()"
      ],
      "execution_count": null,
      "outputs": [
        {
          "output_type": "execute_result",
          "data": {
            "text/plain": [
              "0    [algorithmm, input, graph, g, output, set, of,...\n",
              "1    [while, converting, the, data, frame, to, html...\n",
              "2    [p, this, should, be, an, easy, one, but, some...\n",
              "3    [p, let, say, i, have, a, component, in, angul...\n",
              "4    [p, i, m, setting, a, var, using, code, set, t...\n",
              "Name: Text, dtype: object"
            ]
          },
          "metadata": {
            "tags": []
          },
          "execution_count": 47
        }
      ]
    },
    {
      "cell_type": "markdown",
      "metadata": {
        "id": "6MhtDCxlaSBG"
      },
      "source": [
        "## Counting and removing stop words"
      ]
    },
    {
      "cell_type": "code",
      "metadata": {
        "id": "xN9VGKeyGORs"
      },
      "source": [
        "# Length of word must be greater than \"2\". No explanation, just intuition :)\n",
        "def GetStopwords(text):\n",
        "    StopWords = []\n",
        "    for w in text:\n",
        "        if (w in stopwords.words(\"english\")) or (len(w) <= 2):\n",
        "            StopWords.append(w)\n",
        "    return StopWords\n",
        "\n",
        "def RemoveStopwords(text):\n",
        "    PureWords = []\n",
        "    for w in text:\n",
        "        if w not in stopwords.words(\"english\") and len(w) > 2:\n",
        "            PureWords.append(w)\n",
        "    return PureWords"
      ],
      "execution_count": null,
      "outputs": []
    },
    {
      "cell_type": "code",
      "metadata": {
        "colab": {
          "base_uri": "https://localhost:8080/"
        },
        "id": "Jz-vwqinGQFy",
        "outputId": "bb4ca241-f9a6-463b-99ab-950500b6c4fd"
      },
      "source": [
        "TestDF[\"Stop\"] = TestDF[\"Text\"].apply(GetStopwords)\n",
        "TestDF[\"NumOfStopwords\"] = TestDF[\"Stop\"].apply(lambda text: len(text))\n",
        "TestDF[\"Text\"] = TestDF[\"Text\"].apply(RemoveStopwords)\n",
        "TestDF.head()"
      ],
      "execution_count": null,
      "outputs": [
        {
          "output_type": "execute_result",
          "data": {
            "text/html": [
              "<div>\n",
              "<style scoped>\n",
              "    .dataframe tbody tr th:only-of-type {\n",
              "        vertical-align: middle;\n",
              "    }\n",
              "\n",
              "    .dataframe tbody tr th {\n",
              "        vertical-align: top;\n",
              "    }\n",
              "\n",
              "    .dataframe thead th {\n",
              "        text-align: right;\n",
              "    }\n",
              "</style>\n",
              "<table border=\"1\" class=\"dataframe\">\n",
              "  <thead>\n",
              "    <tr style=\"text-align: right;\">\n",
              "      <th></th>\n",
              "      <th>Id</th>\n",
              "      <th>Body</th>\n",
              "      <th>Tags</th>\n",
              "      <th>Title</th>\n",
              "      <th>Text</th>\n",
              "      <th>Stop</th>\n",
              "      <th>NumOfStopwords</th>\n",
              "    </tr>\n",
              "  </thead>\n",
              "  <tbody>\n",
              "    <tr>\n",
              "      <th>0</th>\n",
              "      <td>46785369</td>\n",
              "      <td>I was given a decision tree with sample data i...</td>\n",
              "      <td>&lt;math&gt;&lt;machine-learning&gt;&lt;artificial-intelligen...</td>\n",
              "      <td>Desecion trees ended up with same given tree a...</td>\n",
              "      <td>[given, decision, tree, sample, data, class, s...</td>\n",
              "      <td>[i, was, a, with, in, to, after, the, with, th...</td>\n",
              "      <td>29</td>\n",
              "    </tr>\n",
              "    <tr>\n",
              "      <th>1</th>\n",
              "      <td>38908667</td>\n",
              "      <td>&lt;p&gt;I am moving a test application over to Xcod...</td>\n",
              "      <td>&lt;ios&gt;&lt;swift&gt;&lt;swift3&gt;&lt;xcode8&gt;&lt;nserror&gt;</td>\n",
              "      <td>Value of type 'Error' has no member 'code'</td>\n",
              "      <td>[moving, test, application, xcode, beta, conve...</td>\n",
              "      <td>[p, i, am, a, over, to, and, my, to, i, am, wi...</td>\n",
              "      <td>37</td>\n",
              "    </tr>\n",
              "    <tr>\n",
              "      <th>2</th>\n",
              "      <td>44703012</td>\n",
              "      <td>&lt;p&gt;I would like to be able to perform linting ...</td>\n",
              "      <td>&lt;jenkins&gt;&lt;jenkins-pipeline&gt;</td>\n",
              "      <td>How do I lint Jenkins pipelines from the comma...</td>\n",
              "      <td>[would, like, able, perform, linting, jenkins,...</td>\n",
              "      <td>[p, i, to, be, to, on, and, it, that, is, not,...</td>\n",
              "      <td>24</td>\n",
              "    </tr>\n",
              "    <tr>\n",
              "      <th>3</th>\n",
              "      <td>34910435</td>\n",
              "      <td>&lt;p&gt;I’m using &lt;a href=\"https://github.com/ftlab...</td>\n",
              "      <td>&lt;javascript&gt;&lt;css&gt;&lt;mobile-safari&gt;&lt;fastclick.js&gt;...</td>\n",
              "      <td>Is there a way to prevent fastclick from firin...</td>\n",
              "      <td>[using, href, https, github, com, ftlabs, fast...</td>\n",
              "      <td>[p, i, m, a, a, on, a, with, because, i, to, t...</td>\n",
              "      <td>66</td>\n",
              "    </tr>\n",
              "    <tr>\n",
              "      <th>4</th>\n",
              "      <td>51632121</td>\n",
              "      <td>I have some 5 Test cases and I want them to ke...</td>\n",
              "      <td>&lt;android&gt;&lt;testing&gt;&lt;appium&gt;&lt;katalon-studio&gt;</td>\n",
              "      <td>How to loop test cases in katalon Studio?</td>\n",
              "      <td>[test, cases, want, keep, running, times, orde...</td>\n",
              "      <td>[i, have, some, and, i, them, to, for, in, how...</td>\n",
              "      <td>22</td>\n",
              "    </tr>\n",
              "  </tbody>\n",
              "</table>\n",
              "</div>"
            ],
            "text/plain": [
              "         Id                                               Body  \\\n",
              "0  46785369  I was given a decision tree with sample data i...   \n",
              "1  38908667  <p>I am moving a test application over to Xcod...   \n",
              "2  44703012  <p>I would like to be able to perform linting ...   \n",
              "3  34910435  <p>I’m using <a href=\"https://github.com/ftlab...   \n",
              "4  51632121  I have some 5 Test cases and I want them to ke...   \n",
              "\n",
              "                                                Tags  \\\n",
              "0  <math><machine-learning><artificial-intelligen...   \n",
              "1              <ios><swift><swift3><xcode8><nserror>   \n",
              "2                        <jenkins><jenkins-pipeline>   \n",
              "3  <javascript><css><mobile-safari><fastclick.js>...   \n",
              "4         <android><testing><appium><katalon-studio>   \n",
              "\n",
              "                                               Title  \\\n",
              "0  Desecion trees ended up with same given tree a...   \n",
              "1         Value of type 'Error' has no member 'code'   \n",
              "2  How do I lint Jenkins pipelines from the comma...   \n",
              "3  Is there a way to prevent fastclick from firin...   \n",
              "4          How to loop test cases in katalon Studio?   \n",
              "\n",
              "                                                Text  \\\n",
              "0  [given, decision, tree, sample, data, class, s...   \n",
              "1  [moving, test, application, xcode, beta, conve...   \n",
              "2  [would, like, able, perform, linting, jenkins,...   \n",
              "3  [using, href, https, github, com, ftlabs, fast...   \n",
              "4  [test, cases, want, keep, running, times, orde...   \n",
              "\n",
              "                                                Stop  NumOfStopwords  \n",
              "0  [i, was, a, with, in, to, after, the, with, th...              29  \n",
              "1  [p, i, am, a, over, to, and, my, to, i, am, wi...              37  \n",
              "2  [p, i, to, be, to, on, and, it, that, is, not,...              24  \n",
              "3  [p, i, m, a, a, on, a, with, because, i, to, t...              66  \n",
              "4  [i, have, some, and, i, them, to, for, in, how...              22  "
            ]
          },
          "metadata": {
            "tags": []
          },
          "execution_count": 49
        }
      ]
    },
    {
      "cell_type": "code",
      "metadata": {
        "id": "uXkA_RQzaoE7"
      },
      "source": [
        "TrainDF[\"Stop\"] = TrainDF[\"Text\"].apply(GetStopwords)\n",
        "TrainDF[\"NumOfStopwords\"] = TrainDF[\"Stop\"].apply(lambda text: len(text))\n",
        "TrainDF[\"Text\"] = TrainDF[\"Text\"].apply(RemoveStopwords)\n",
        "TrainDF.head()"
      ],
      "execution_count": null,
      "outputs": []
    },
    {
      "cell_type": "markdown",
      "metadata": {
        "id": "o7xpePcnRTMg"
      },
      "source": [
        "## Lemmatization"
      ]
    },
    {
      "cell_type": "code",
      "metadata": {
        "id": "aom4WYuyRarZ"
      },
      "source": [
        "def Lemmatize(text):\n",
        "    Lemmatizer = WordNetLemmatizer()\n",
        "    Words = []\n",
        "    for w in text:\n",
        "        Words.append(Lemmatizer.lemmatize(w))\n",
        "    return Words\n",
        "\n",
        "TestDF[\"Text\"] = TestDF[\"Text\"].apply(Lemmatize)\n",
        "TrainDF[\"Text\"] = TrainDF[\"Text\"].apply(Lemmatize)"
      ],
      "execution_count": null,
      "outputs": []
    },
    {
      "cell_type": "markdown",
      "metadata": {
        "id": "YeYKT1r_ax7T"
      },
      "source": [
        "# Extra features"
      ]
    },
    {
      "cell_type": "code",
      "metadata": {
        "id": "4mV7zPO0a8tV"
      },
      "source": [
        "# Number of tags\n",
        "TestDF[\"NumOfTags\"] = TestDF[\"Tags\"].apply(lambda text: len(re.findall('<', text)))\n",
        "TrainDF[\"NumOfTags\"] = TrainDF[\"Tags\"].apply(lambda text: len(re.findall('<', text)))"
      ],
      "execution_count": null,
      "outputs": []
    },
    {
      "cell_type": "code",
      "metadata": {
        "id": "cOepqau5JcUq"
      },
      "source": [
        "# Number of words\n",
        "TestDF[\"NumOfWords\"] = TestDF[\"Text\"].apply(lambda text: len(text))\n",
        "TrainDF[\"NumOfWords\"] = TrainDF[\"Text\"].apply(lambda text: len(text))"
      ],
      "execution_count": null,
      "outputs": []
    },
    {
      "cell_type": "code",
      "metadata": {
        "id": "t-_NUVPkLdWd"
      },
      "source": [
        "# Number of letters\n",
        "def NumberOfLetters(text):\n",
        "    counter = 0\n",
        "    for w in text:\n",
        "        counter += len(w)\n",
        "    return counter\n",
        "\n",
        "TestDF[\"NumOfLetters\"] = TestDF[\"Text\"].apply(NumberOfLetters)\n",
        "TrainDF[\"NumOfLetters\"] = TrainDF[\"Text\"].apply(NumberOfLetters)"
      ],
      "execution_count": null,
      "outputs": []
    },
    {
      "cell_type": "code",
      "metadata": {
        "id": "zAOmU1CaBEXb"
      },
      "source": [
        "def MakeFullText(text):\n",
        "    string = \"\"\n",
        "    for w in text:\n",
        "        string += w + \" \"\n",
        "    return string"
      ],
      "execution_count": null,
      "outputs": []
    },
    {
      "cell_type": "code",
      "metadata": {
        "id": "QVklhQJEBEXb"
      },
      "source": [
        "TestDF[\"FullText\"] = TestDF[\"Text\"].apply(MakeFullText)\n",
        "TrainDF[\"FullText\"] = TrainDF[\"Text\"].apply(MakeFullText)"
      ],
      "execution_count": null,
      "outputs": []
    },
    {
      "cell_type": "code",
      "metadata": {
        "scrolled": false,
        "id": "hbF_b65YBEXb"
      },
      "source": [
        "SaveParquet(TestDF, Path + \"test.preprocessed.parquet\")\n",
        "SaveParquet(TrainDF, Path + \"train.preprocessed.parquet\")"
      ],
      "execution_count": null,
      "outputs": []
    },
    {
      "cell_type": "markdown",
      "metadata": {
        "id": "NWuizQh3hyd_"
      },
      "source": [
        "# One Hot Encoding"
      ]
    },
    {
      "cell_type": "code",
      "metadata": {
        "id": "2EiRgN_0oPGf"
      },
      "source": [
        "# Load preprocessed data frames\n",
        "# TestDF = ReadParquet(Path + \"test.preprocessed.parquet\")\n",
        "# TrainDF = ReadParquet(Path + \"train.preprocessed.parquet\")"
      ],
      "execution_count": null,
      "outputs": []
    },
    {
      "cell_type": "code",
      "metadata": {
        "id": "LvvVnVrONBYN"
      },
      "source": [
        "# Я, если честно, понимая, насколько огромным получится словарь, \n",
        "# не стал насиловать свои 8Gb RAM и 12Gb RAM Collab'а."
      ],
      "execution_count": null,
      "outputs": []
    },
    {
      "cell_type": "markdown",
      "metadata": {
        "id": "wWMAkbB5TNe9"
      },
      "source": [
        "# Word2Vec"
      ]
    },
    {
      "cell_type": "code",
      "metadata": {
        "id": "mL-rcs-4TQZH"
      },
      "source": [
        "# Load preprocessed data frames\n",
        "TestDF = ReadParquet(Path + \"test.preprocessed.parquet\")\n",
        "TrainDF = ReadParquet(Path + \"train.preprocessed.parquet\")"
      ],
      "execution_count": 8,
      "outputs": []
    },
    {
      "cell_type": "code",
      "metadata": {
        "id": "m01vtqqHXJgr"
      },
      "source": [
        "W2V_OurModel = Word2Vec(TrainDF[\"Text\"].values, min_count = 1, size = 100, window = 5)\n",
        "# W2V_OurModel.wv.save(Path + 'W2V_OurModel.model')"
      ],
      "execution_count": null,
      "outputs": []
    },
    {
      "cell_type": "code",
      "metadata": {
        "id": "qmBz8xE9BEXb"
      },
      "source": [
        "def ConvertTextIntoVec(text, model):\n",
        "    vector = 0\n",
        "    for w in text:\n",
        "        try:\n",
        "            vector += model.wv[w]\n",
        "        except:\n",
        "            continue\n",
        "    return vector"
      ],
      "execution_count": 8,
      "outputs": []
    },
    {
      "cell_type": "code",
      "metadata": {
        "scrolled": true,
        "id": "Bs0F7DUOBEXb"
      },
      "source": [
        "Test_W2V_Our = pandas.DataFrame(columns = ['W2V Our'])\n",
        "Train_W2V_Our = pandas.DataFrame(columns = ['W2V Our'])\n",
        "Test_W2V_Our[\"W2V Our\"] = TestDF[\"Text\"].apply(ConvertTextIntoVec, args = [W2V_OurModel])\n",
        "Train_W2V_Our[\"W2V Our\"] = TrainDF[\"Text\"].apply(ConvertTextIntoVec, args = [W2V_OurModel])"
      ],
      "execution_count": null,
      "outputs": []
    },
    {
      "cell_type": "code",
      "metadata": {
        "id": "eHGhyTelBEXb"
      },
      "source": [
        "# Loading pretrained model\n",
        "W2V_PreModel = KeyedVectors.load_word2vec_format(Path + \"GoogleNews-vectors-negative300.bin\", binary = True)"
      ],
      "execution_count": 91,
      "outputs": []
    },
    {
      "cell_type": "code",
      "metadata": {
        "scrolled": true,
        "colab": {
          "base_uri": "https://localhost:8080/"
        },
        "id": "FmCyPDXuBEXc",
        "outputId": "cb82c96d-2909-43ac-cd7d-38145353d6e1"
      },
      "source": [
        "Test_W2V_Pre = pandas.DataFrame(columns = ['W2V Pre'])\n",
        "Train_W2V_Pre = pandas.DataFrame(columns = ['W2V Pre'])\n",
        "Test_W2V_Pre[\"W2V Pre\"] = TestDF[\"Text\"].apply(ConvertTextIntoVec, args = [W2V_PreModel])\n",
        "Train_W2V_Pre[\"W2V Pre\"] = TrainDF[\"Text\"].apply(ConvertTextIntoVec, args = [W2V_PreModel])"
      ],
      "execution_count": 92,
      "outputs": [
        {
          "output_type": "stream",
          "text": [
            "/usr/local/lib/python3.6/dist-packages/ipykernel_launcher.py:5: DeprecationWarning: Call to deprecated `wv` (Attribute will be removed in 4.0.0, use self instead).\n",
            "  \"\"\"\n"
          ],
          "name": "stderr"
        }
      ]
    },
    {
      "cell_type": "markdown",
      "metadata": {
        "id": "8Pc90Tm7BEXc"
      },
      "source": [
        "# Fasttext"
      ]
    },
    {
      "cell_type": "code",
      "metadata": {
        "id": "1p6i1zKJBEXc"
      },
      "source": [
        "# Load preprocessed data frames\n",
        "TestDF = ReadParquet(Path + \"test.preprocessed.parquet\")\n",
        "TrainDF = ReadParquet(Path + \"train.preprocessed.parquet\")"
      ],
      "execution_count": 9,
      "outputs": []
    },
    {
      "cell_type": "code",
      "metadata": {
        "id": "hRezezyzBEXc"
      },
      "source": [
        "FT = FastText(size = 4, window = 5, min_count = 1)\n",
        "FT.build_vocab(sentences = TrainDF[\"FullText\"].tolist())"
      ],
      "execution_count": 11,
      "outputs": []
    },
    {
      "cell_type": "code",
      "metadata": {
        "id": "JhZXcskSBEXc"
      },
      "source": [
        "FT.train(sentences = TrainDF[\"FullText\"].tolist(), epochs = FT.epochs, \n",
        "         total_examples = FT.corpus_count, total_words = FT.corpus_total_words)"
      ],
      "execution_count": 12,
      "outputs": []
    },
    {
      "cell_type": "code",
      "metadata": {
        "id": "L224cMTlBEXc"
      },
      "source": [
        "Test_FT = pandas.DataFrame(columns = ['Fasttext'])\n",
        "Train_FT = pandas.DataFrame(columns = ['Fasttext'])\n",
        "Test_FT[\"Fasttext\"] = TestDF[\"Text\"].apply(ConvertTextIntoVec, args = [FT])\n",
        "Train_FT[\"Fasttext\"] = TrainDF[\"Text\"].apply(ConvertTextIntoVec, args = [FT])"
      ],
      "execution_count": 13,
      "outputs": []
    },
    {
      "cell_type": "code",
      "metadata": {
        "id": "9LhV6J_1BEXc",
        "outputId": "ea6e6630-5206-40e5-a77a-b009aabd3937"
      },
      "source": [
        "# Loading pretrained model\n",
        "# FT_Pre = FastText.load_fasttext_format(Path + 'fasttext-wiki.en.bin')\n",
        "# 8Гб оперативки вышли из чата"
      ],
      "execution_count": null,
      "outputs": [
        {
          "output_type": "stream",
          "text": [
            "<ipython-input-100-122e679cee45>:2: DeprecationWarning: Call to deprecated `load_fasttext_format` (use load_facebook_vectors (to use pretrained embeddings) or load_facebook_model (to continue training with the loaded full model, more RAM) instead).\n",
            "  FT_Pre = FastText.load_fasttext_format(Path + 'fasttext-wiki.en.bin')\n"
          ],
          "name": "stderr"
        }
      ]
    },
    {
      "cell_type": "code",
      "metadata": {
        "id": "MnBIWfQ4BEXc"
      },
      "source": [
        "# Test_FT_Pre = pandas.DataFrame(columns = ['Fasttext Pre'])\n",
        "# Train_FT_Pre = pandas.DataFrame(columns = ['Fasttext Pre'])\n",
        "# Test_FT_Pre[\"Fasttext Pre\"] = TestDF[\"Text\"].apply(ConvertTextIntoVec, args = [FT_Pre])\n",
        "# Train_FT_Pre[\"Fasttext Pre\"] = TrainDF[\"Text\"].apply(ConvertTextIntoVec, args = [FT_Pre])"
      ],
      "execution_count": null,
      "outputs": []
    },
    {
      "cell_type": "markdown",
      "metadata": {
        "id": "XjsTa3AoBEXc"
      },
      "source": [
        "# Bag of Words"
      ]
    },
    {
      "cell_type": "code",
      "metadata": {
        "id": "iP90zDI9BEXc"
      },
      "source": [
        "# Load preprocessed data frames\n",
        "# TestDF = ReadParquet(Path + \"test.preprocessed.parquet\")\n",
        "# TrainDF = ReadParquet(Path + \"train.preprocessed.parquet\")"
      ],
      "execution_count": null,
      "outputs": []
    },
    {
      "cell_type": "code",
      "metadata": {
        "id": "Xits-bbuBEXc"
      },
      "source": [
        "BOW = CountVectorizer()\n",
        "Test_BOW = BOW.fit_transform(TestDF[\"FullText\"])\n",
        "Train_BOW = BOW.fit_transform(TrainDF[\"FullText\"])"
      ],
      "execution_count": 8,
      "outputs": []
    },
    {
      "cell_type": "code",
      "metadata": {
        "colab": {
          "base_uri": "https://localhost:8080/",
          "height": 323
        },
        "id": "7-pQzbSkW9gA",
        "outputId": "f32c2038-000b-49fe-cb32-9c9b74f7d539"
      },
      "source": [
        ""
      ],
      "execution_count": 201,
      "outputs": [
        {
          "output_type": "error",
          "ename": "IndexError",
          "evalue": "ignored",
          "traceback": [
            "\u001b[0;31m---------------------------------------------------------------------------\u001b[0m",
            "\u001b[0;31mIndexError\u001b[0m                                Traceback (most recent call last)",
            "\u001b[0;32m<ipython-input-201-35d82e42508a>\u001b[0m in \u001b[0;36m<module>\u001b[0;34m()\u001b[0m\n\u001b[0;32m----> 1\u001b[0;31m \u001b[0mTest_BOW\u001b[0m\u001b[0;34m[\u001b[0m\u001b[0;34m\"Fasttext\"\u001b[0m\u001b[0;34m]\u001b[0m \u001b[0;34m=\u001b[0m \u001b[0mTestDF\u001b[0m\u001b[0;34m[\u001b[0m\u001b[0;34m\"Text\"\u001b[0m\u001b[0;34m]\u001b[0m\u001b[0;34m.\u001b[0m\u001b[0mapply\u001b[0m\u001b[0;34m(\u001b[0m\u001b[0mConvertTextIntoVec\u001b[0m\u001b[0;34m,\u001b[0m \u001b[0margs\u001b[0m \u001b[0;34m=\u001b[0m \u001b[0;34m[\u001b[0m\u001b[0mTest_BOW\u001b[0m\u001b[0;34m]\u001b[0m\u001b[0;34m)\u001b[0m\u001b[0;34m\u001b[0m\u001b[0;34m\u001b[0m\u001b[0m\n\u001b[0m\u001b[1;32m      2\u001b[0m \u001b[0mTrain_BOW\u001b[0m\u001b[0;34m[\u001b[0m\u001b[0;34m\"Fasttext\"\u001b[0m\u001b[0;34m]\u001b[0m \u001b[0;34m=\u001b[0m \u001b[0mTrainDF\u001b[0m\u001b[0;34m[\u001b[0m\u001b[0;34m\"Text\"\u001b[0m\u001b[0;34m]\u001b[0m\u001b[0;34m.\u001b[0m\u001b[0mapply\u001b[0m\u001b[0;34m(\u001b[0m\u001b[0mConvertTextIntoVec\u001b[0m\u001b[0;34m,\u001b[0m \u001b[0margs\u001b[0m \u001b[0;34m=\u001b[0m \u001b[0;34m[\u001b[0m\u001b[0mTrain_BOW\u001b[0m\u001b[0;34m]\u001b[0m\u001b[0;34m)\u001b[0m\u001b[0;34m\u001b[0m\u001b[0;34m\u001b[0m\u001b[0m\n",
            "\u001b[0;32m/usr/local/lib/python3.6/dist-packages/scipy/sparse/_index.py\u001b[0m in \u001b[0;36m__setitem__\u001b[0;34m(self, key, x)\u001b[0m\n\u001b[1;32m     76\u001b[0m \u001b[0;34m\u001b[0m\u001b[0m\n\u001b[1;32m     77\u001b[0m     \u001b[0;32mdef\u001b[0m \u001b[0m__setitem__\u001b[0m\u001b[0;34m(\u001b[0m\u001b[0mself\u001b[0m\u001b[0;34m,\u001b[0m \u001b[0mkey\u001b[0m\u001b[0;34m,\u001b[0m \u001b[0mx\u001b[0m\u001b[0;34m)\u001b[0m\u001b[0;34m:\u001b[0m\u001b[0;34m\u001b[0m\u001b[0;34m\u001b[0m\u001b[0m\n\u001b[0;32m---> 78\u001b[0;31m         \u001b[0mrow\u001b[0m\u001b[0;34m,\u001b[0m \u001b[0mcol\u001b[0m \u001b[0;34m=\u001b[0m \u001b[0mself\u001b[0m\u001b[0;34m.\u001b[0m\u001b[0m_validate_indices\u001b[0m\u001b[0;34m(\u001b[0m\u001b[0mkey\u001b[0m\u001b[0;34m)\u001b[0m\u001b[0;34m\u001b[0m\u001b[0;34m\u001b[0m\u001b[0m\n\u001b[0m\u001b[1;32m     79\u001b[0m \u001b[0;34m\u001b[0m\u001b[0m\n\u001b[1;32m     80\u001b[0m         \u001b[0;32mif\u001b[0m \u001b[0misinstance\u001b[0m\u001b[0;34m(\u001b[0m\u001b[0mrow\u001b[0m\u001b[0;34m,\u001b[0m \u001b[0mINT_TYPES\u001b[0m\u001b[0;34m)\u001b[0m \u001b[0;32mand\u001b[0m \u001b[0misinstance\u001b[0m\u001b[0;34m(\u001b[0m\u001b[0mcol\u001b[0m\u001b[0;34m,\u001b[0m \u001b[0mINT_TYPES\u001b[0m\u001b[0;34m)\u001b[0m\u001b[0;34m:\u001b[0m\u001b[0;34m\u001b[0m\u001b[0;34m\u001b[0m\u001b[0m\n",
            "\u001b[0;32m/usr/local/lib/python3.6/dist-packages/scipy/sparse/_index.py\u001b[0m in \u001b[0;36m_validate_indices\u001b[0;34m(self, key)\u001b[0m\n\u001b[1;32m    137\u001b[0m                 \u001b[0mrow\u001b[0m \u001b[0;34m+=\u001b[0m \u001b[0mM\u001b[0m\u001b[0;34m\u001b[0m\u001b[0;34m\u001b[0m\u001b[0m\n\u001b[1;32m    138\u001b[0m         \u001b[0;32melif\u001b[0m \u001b[0;32mnot\u001b[0m \u001b[0misinstance\u001b[0m\u001b[0;34m(\u001b[0m\u001b[0mrow\u001b[0m\u001b[0;34m,\u001b[0m \u001b[0mslice\u001b[0m\u001b[0;34m)\u001b[0m\u001b[0;34m:\u001b[0m\u001b[0;34m\u001b[0m\u001b[0;34m\u001b[0m\u001b[0m\n\u001b[0;32m--> 139\u001b[0;31m             \u001b[0mrow\u001b[0m \u001b[0;34m=\u001b[0m \u001b[0mself\u001b[0m\u001b[0;34m.\u001b[0m\u001b[0m_asindices\u001b[0m\u001b[0;34m(\u001b[0m\u001b[0mrow\u001b[0m\u001b[0;34m,\u001b[0m \u001b[0mM\u001b[0m\u001b[0;34m)\u001b[0m\u001b[0;34m\u001b[0m\u001b[0;34m\u001b[0m\u001b[0m\n\u001b[0m\u001b[1;32m    140\u001b[0m \u001b[0;34m\u001b[0m\u001b[0m\n\u001b[1;32m    141\u001b[0m         \u001b[0;32mif\u001b[0m \u001b[0misintlike\u001b[0m\u001b[0;34m(\u001b[0m\u001b[0mcol\u001b[0m\u001b[0;34m)\u001b[0m\u001b[0;34m:\u001b[0m\u001b[0;34m\u001b[0m\u001b[0;34m\u001b[0m\u001b[0m\n",
            "\u001b[0;32m/usr/local/lib/python3.6/dist-packages/scipy/sparse/_index.py\u001b[0m in \u001b[0;36m_asindices\u001b[0;34m(self, idx, length)\u001b[0m\n\u001b[1;32m    161\u001b[0m \u001b[0;34m\u001b[0m\u001b[0m\n\u001b[1;32m    162\u001b[0m         \u001b[0;32mif\u001b[0m \u001b[0mx\u001b[0m\u001b[0;34m.\u001b[0m\u001b[0mndim\u001b[0m \u001b[0;32mnot\u001b[0m \u001b[0;32min\u001b[0m \u001b[0;34m(\u001b[0m\u001b[0;36m1\u001b[0m\u001b[0;34m,\u001b[0m \u001b[0;36m2\u001b[0m\u001b[0;34m)\u001b[0m\u001b[0;34m:\u001b[0m\u001b[0;34m\u001b[0m\u001b[0;34m\u001b[0m\u001b[0m\n\u001b[0;32m--> 163\u001b[0;31m             \u001b[0;32mraise\u001b[0m \u001b[0mIndexError\u001b[0m\u001b[0;34m(\u001b[0m\u001b[0;34m'Index dimension must be <= 2'\u001b[0m\u001b[0;34m)\u001b[0m\u001b[0;34m\u001b[0m\u001b[0;34m\u001b[0m\u001b[0m\n\u001b[0m\u001b[1;32m    164\u001b[0m \u001b[0;34m\u001b[0m\u001b[0m\n\u001b[1;32m    165\u001b[0m         \u001b[0;32mif\u001b[0m \u001b[0mx\u001b[0m\u001b[0;34m.\u001b[0m\u001b[0msize\u001b[0m \u001b[0;34m==\u001b[0m \u001b[0;36m0\u001b[0m\u001b[0;34m:\u001b[0m\u001b[0;34m\u001b[0m\u001b[0;34m\u001b[0m\u001b[0m\n",
            "\u001b[0;31mIndexError\u001b[0m: Index dimension must be <= 2"
          ]
        }
      ]
    },
    {
      "cell_type": "markdown",
      "metadata": {
        "id": "sdRogiyfBEXc"
      },
      "source": [
        "# TF-IDF"
      ]
    },
    {
      "cell_type": "code",
      "metadata": {
        "id": "LaxngC4QBEXc"
      },
      "source": [
        "# Load preprocessed data frames\n",
        "# TestDF = ReadParquet(Path + \"test.preprocessed.parquet\")\n",
        "# TrainDF = ReadParquet(Path + \"train.preprocessed.parquet\")"
      ],
      "execution_count": null,
      "outputs": []
    },
    {
      "cell_type": "code",
      "metadata": {
        "id": "M8tfH9Q3BEXc"
      },
      "source": [
        "TF_IDF = TfidfVectorizer()\n",
        "Test_TDIDF = TF_IDF.fit_transform(TestDF[\"FullText\"])\n",
        "Train_TDIDF = TF_IDF.fit_transform(TrainDF[\"FullText\"])"
      ],
      "execution_count": 7,
      "outputs": []
    },
    {
      "cell_type": "code",
      "metadata": {
        "id": "-IBsPXb4H4TK"
      },
      "source": [
        "import numpy as np\n",
        "from sklearn.model_selection import train_test_split\n",
        "from sklearn.neighbors import KNeighborsClassifier\n",
        "from sklearn.naive_bayes import GaussianNB\n",
        "from sklearn.model_selection import GridSearchCV"
      ],
      "execution_count": 71,
      "outputs": []
    },
    {
      "cell_type": "markdown",
      "metadata": {
        "id": "fH5CucgHwlbW"
      },
      "source": [
        "# W2V  ML"
      ]
    },
    {
      "cell_type": "markdown",
      "metadata": {
        "id": "RFLoBOl06O6X"
      },
      "source": [
        "##Cross-validation"
      ]
    },
    {
      "cell_type": "code",
      "metadata": {
        "id": "53tSjChKwkKx"
      },
      "source": [
        "y = TrainDF['target']\n",
        "X_train, X_test, y_train, y_test = train_test_split(Train_W2V_Pre[\"W2V Pre\"], y, test_size=0.2, random_state=666)\n",
        "X_train = list(X_train)\n",
        "X_test = list(X_test)"
      ],
      "execution_count": 93,
      "outputs": []
    },
    {
      "cell_type": "code",
      "metadata": {
        "colab": {
          "base_uri": "https://localhost:8080/"
        },
        "id": "a82tQ-_JQye7",
        "outputId": "cb777a08-8136-47ce-ec6b-962f0bf19ed6"
      },
      "source": [
        "X_train[:1]"
      ],
      "execution_count": 96,
      "outputs": [
        {
          "output_type": "execute_result",
          "data": {
            "text/plain": [
              "[array([  4.5369053 ,  -0.26246357,   5.8135796 ,  22.690857  ,\n",
              "        -18.708466  ,  -4.735718  ,   5.016342  ,  -8.587728  ,\n",
              "         12.988035  ,   7.4308624 , -11.038528  , -21.460182  ,\n",
              "         -3.7847748 ,  -1.5305786 , -25.884714  ,  14.402283  ,\n",
              "          7.312462  ,  22.762146  ,  -0.37356234, -16.692122  ,\n",
              "        -12.510517  ,   2.2487898 ,   3.974594  ,  -1.152565  ,\n",
              "          0.9514885 ,  -6.1299486 , -23.500359  ,  19.80664   ,\n",
              "         -1.5603333 ,   0.21292019,   3.499012  ,  -7.144757  ,\n",
              "         -8.424018  ,  -4.558998  ,  -7.41663   ,   1.3037224 ,\n",
              "          2.3492126 ,   6.965061  ,   7.191696  ,   4.6735077 ,\n",
              "         13.491703  ,  -2.6178284 ,  13.940475  ,   7.4483643 ,\n",
              "          2.9682312 , -10.326413  ,  -3.8010025 ,  -3.9720268 ,\n",
              "         -4.894829  ,  -1.983818  ,  -3.6878204 ,   4.249634  ,\n",
              "         -7.485504  ,  -4.2693405 ,   6.594861  ,  16.239494  ,\n",
              "         -4.3267517 , -15.477686  ,   5.3038025 , -15.391296  ,\n",
              "          1.0823364 ,   9.213654  , -18.561996  , -11.832352  ,\n",
              "         -8.657288  , -12.25605   ,  -3.6137009 ,  18.813309  ,\n",
              "        -14.313698  ,   8.55838   ,   5.02005   ,   0.50523376,\n",
              "         16.214111  ,  -6.450836  , -11.465246  , -14.20636   ,\n",
              "         21.137085  ,  10.428436  ,   8.690926  ,  14.039505  ,\n",
              "         -0.39782715,  -9.077484  ,   3.400196  ,   5.451106  ,\n",
              "          2.8435917 ,  -5.7947006 , -12.7261505 ,  29.670395  ,\n",
              "          3.071167  ,  15.702225  ,  14.027775  ,  -7.32428   ,\n",
              "         -7.7419853 , -13.853405  ,   1.5064697 ,  -1.928299  ,\n",
              "          1.0640106 ,   0.41894722,   2.9382248 ,   2.6909485 ,\n",
              "         -3.458374  ,  -5.698181  ,   1.2532043 ,   2.367916  ,\n",
              "         -2.3230286 ,   3.893711  ,  -8.75766   ,   4.551117  ,\n",
              "          0.6473179 ,  -9.358528  , -11.101517  ,  -9.797363  ,\n",
              "         -6.309417  ,  -8.39063   ,  16.348057  ,  14.884457  ,\n",
              "          3.9786477 ,  -5.4173203 ,  25.113464  ,   8.958488  ,\n",
              "         -7.657692  ,  -5.1353893 , -10.53183   ,  15.793549  ,\n",
              "          2.965046  , -14.083183  , -12.051254  ,  -1.4122009 ,\n",
              "         10.537704  ,   6.5773582 ,  -8.031532  , -15.867798  ,\n",
              "        -12.835506  ,  -4.518692  ,   2.52837   , -18.177094  ,\n",
              "          0.10317564,   6.3762436 ,   5.7268753 ,  10.52887   ,\n",
              "          8.370247  ,  -7.993824  ,   5.5727453 ,   3.1717453 ,\n",
              "          0.11529541,  -2.1239471 , -12.664246  ,  -6.661518  ,\n",
              "         -1.3549805 ,  -1.6180148 ,  13.964348  ,  -0.2177124 ,\n",
              "        -18.427475  ,   8.615841  ,  -3.5997925 ,  -7.800167  ,\n",
              "         -9.820385  ,  -1.1060963 ,  -9.800034  ,  -1.7108746 ,\n",
              "         -0.18753052,  17.69226   ,   3.6186295 ,   2.7436829 ,\n",
              "         -4.023819  ,  -8.809662  ,   8.964035  ,  -1.0381584 ,\n",
              "        -11.746506  ,   1.4653931 , -22.168728  , -13.75737   ,\n",
              "         -7.695801  , -14.877932  ,   2.6426773 ,  -1.0957184 ,\n",
              "         21.465256  , -22.845856  ,  -1.9061165 ,   0.77083206,\n",
              "        -15.536509  ,  -6.1404552 ,   1.8027344 ,   7.511244  ,\n",
              "          0.55349064,   1.5517578 ,  -3.1373596 ,  10.539871  ,\n",
              "         15.799973  ,   5.5429306 ,  -1.6980667 ,  -3.1218414 ,\n",
              "         -0.1678772 ,  -1.8484383 ,  -0.23757935,   2.2836227 ,\n",
              "         -9.192917  ,  -5.279793  ,  -4.571266  , -23.90686   ,\n",
              "          3.187622  ,  13.805724  ,  -7.945099  ,  -5.6144447 ,\n",
              "         -8.992844  ,  -3.6077166 ,  -8.012758  ,   0.22881317,\n",
              "         10.524292  ,   1.8694534 ,  -2.5762024 ,   5.2358704 ,\n",
              "         -9.1467285 ,  14.739422  , -18.869614  ,  10.014423  ,\n",
              "         20.831985  ,   7.2013626 , -20.66507   ,  -1.2146301 ,\n",
              "         -7.5626526 ,   4.7072296 ,   4.9513664 ,  -2.9172707 ,\n",
              "          1.9176903 ,  -5.1109123 ,  11.399235  ,  14.781784  ,\n",
              "          4.9195786 ,   4.942642  ,  -4.562317  ,  -6.553299  ,\n",
              "         -2.4587708 ,  -2.0828934 ,   4.4332504 ,   0.86973953,\n",
              "          8.532356  ,  -6.7582397 ,  20.155151  ,  -0.63744354,\n",
              "          7.3941536 ,  -4.6211205 ,   5.691204  , -14.017063  ,\n",
              "          7.346344  ,   0.0860672 ,   4.466652  ,  18.608276  ,\n",
              "         -6.7678614 ,  -3.9437027 ,  -1.2586098 ,   3.6210938 ,\n",
              "          4.584982  ,   0.5879574 ,   4.716614  , -13.170332  ,\n",
              "          2.0457458 ,  10.61908   ,  -4.4059734 ,  -5.252838  ,\n",
              "          4.6013184 ,  -8.858265  , -10.157608  ,   1.7635345 ,\n",
              "         -0.12080002,  19.272701  ,   4.1753845 ,   0.5405426 ,\n",
              "        -18.334274  , -12.829514  ,   4.200325  ,   9.3098755 ,\n",
              "         16.30014   ,   7.381523  ,   6.9630337 ,  -8.424789  ,\n",
              "        -11.541393  , -26.998856  , -10.373367  ,   2.630272  ,\n",
              "         -4.728073  ,  10.888397  ,   5.0984344 ,   8.5876465 ,\n",
              "         10.137119  ,  -2.2022686 ,  -0.9522228 ,   2.0353546 ,\n",
              "          3.7232208 ,   2.0623016 ,  -8.257828  ,   5.753296  ,\n",
              "        -18.37098   ,   7.6705627 ,  -4.947281  ,  -5.1073875 ,\n",
              "         -7.3982773 ,  -8.235367  ,  -4.668709  ,  -3.2599602 ],\n",
              "       dtype=float32)]"
            ]
          },
          "metadata": {
            "tags": []
          },
          "execution_count": 96
        }
      ]
    },
    {
      "cell_type": "markdown",
      "metadata": {
        "id": "qxlBcuyT25pX"
      },
      "source": [
        "##KNN"
      ]
    },
    {
      "cell_type": "code",
      "metadata": {
        "id": "P0MA1zl6Lvxz",
        "colab": {
          "base_uri": "https://localhost:8080/"
        },
        "outputId": "02ee7e6b-b7de-41dd-c20c-bac3ba006f04"
      },
      "source": [
        "knn = KNeighborsClassifier().fit(X_train, y_train)\n",
        "acc_knn = np.mean(knn.predict(X_train) == y_train)\n",
        "test_acc_knn = np.mean(knn.predict(X_test) == y_test)\n",
        "print(f\"Train Accuracy: {acc_knn}, Test Accuracy: {test_acc_knn}\")"
      ],
      "execution_count": 77,
      "outputs": [
        {
          "output_type": "stream",
          "text": [
            "Train Accuracy: 0.8301822916666667, Test Accuracy: 0.7354166666666667\n"
          ],
          "name": "stdout"
        }
      ]
    },
    {
      "cell_type": "markdown",
      "metadata": {
        "id": "9-v-eBx55uff"
      },
      "source": [
        "##GaussianNB"
      ]
    },
    {
      "cell_type": "code",
      "metadata": {
        "id": "VEfkPuX4L5qn",
        "colab": {
          "base_uri": "https://localhost:8080/"
        },
        "outputId": "5d153aa2-2b47-4604-b52b-1f761ea3ad0f"
      },
      "source": [
        "nb = GaussianNB().fit(X_train, y_train)\n",
        "acc_nb = np.mean(nb.predict(X_train) == y_train)\n",
        "test_acc_nb = np.mean(nb.predict(X_test) == y_test)\n",
        "print(f\"Train Accuracy: {acc_nb}, Test Accuracy: {test_acc_nb}\")"
      ],
      "execution_count": 78,
      "outputs": [
        {
          "output_type": "stream",
          "text": [
            "Train Accuracy: 0.4128125, Test Accuracy: 0.4195833333333333\n"
          ],
          "name": "stdout"
        }
      ]
    },
    {
      "cell_type": "markdown",
      "metadata": {
        "id": "CRo4gCbX5z2W"
      },
      "source": [
        "##GridSearchCV for knn"
      ]
    },
    {
      "cell_type": "code",
      "metadata": {
        "id": "rw52F-BWLy2J",
        "colab": {
          "base_uri": "https://localhost:8080/"
        },
        "outputId": "f9910693-2668-47bc-e0e0-bbefe6c7d8a7"
      },
      "source": [
        "gs = GridSearchCV(knn, param_grid={\"n_neighbors\": range(1,4)})\n",
        "gs.fit(X_train, y_train)\n",
        "#gs.best_params_, gs.best_score_, gs.best_estimator_.n_neighbors\n",
        "best = gs.best_estimator_.n_neighbors\n",
        "print(f\"Grid Search: {gs.best_params_, gs.best_score_, gs.best_estimator_.n_neighbors}\")"
      ],
      "execution_count": 79,
      "outputs": [
        {
          "output_type": "stream",
          "text": [
            "Grid Search: ({'n_neighbors': 3}, 0.7177864583333333, 3)\n"
          ],
          "name": "stdout"
        }
      ]
    },
    {
      "cell_type": "markdown",
      "metadata": {
        "id": "MTz0iUhS572_"
      },
      "source": [
        "##New knn"
      ]
    },
    {
      "cell_type": "code",
      "metadata": {
        "colab": {
          "base_uri": "https://localhost:8080/"
        },
        "id": "gj91sx3zwat0",
        "outputId": "91c76239-2a96-4daa-ae12-4b2e7d252af1"
      },
      "source": [
        "knn_new = KNeighborsClassifier(n_neighbors = best).fit(X_train, y_train)\n",
        "acc_knn_new = np.mean(knn_new.predict(X_train) == y_train)\n",
        "test_acc_knn_new = np.mean(knn_new.predict(X_test) == y_test)\n",
        "print(f\"Train Accuracy: {acc_knn_new}, Test Accuracy: {test_acc_knn_new}\")"
      ],
      "execution_count": 80,
      "outputs": [
        {
          "output_type": "stream",
          "text": [
            "Train Accuracy: 0.8608333333333333, Test Accuracy: 0.7166666666666667\n"
          ],
          "name": "stdout"
        }
      ]
    },
    {
      "cell_type": "markdown",
      "metadata": {
        "id": "y_Vawl9u5_KD"
      },
      "source": [
        "##RandomForestClassifier"
      ]
    },
    {
      "cell_type": "code",
      "metadata": {
        "colab": {
          "base_uri": "https://localhost:8080/"
        },
        "id": "jHKMVM8u5mPy",
        "outputId": "e5ed15c3-a9f6-4413-8c71-11beec195cb9"
      },
      "source": [
        "from sklearn.ensemble import RandomForestClassifier\n",
        "clf_rf = RandomForestClassifier()\n",
        "clf_rf.fit(X_train, y_train)\n",
        "acc_clf_rf = np.mean(clf_rf.predict(X_train) == y_train)\n",
        "test_acc_clf_rf = np.mean(clf_rf.predict(X_test) == y_test)\n",
        "print(f\"RandomForestClassifier Train Accuracy: {acc_clf_rf}, Test Accuracy: {test_acc_clf_rf}\")"
      ],
      "execution_count": 81,
      "outputs": [
        {
          "output_type": "stream",
          "text": [
            "RandomForestClassifier Train Accuracy: 1.0, Test Accuracy: 0.763125\n"
          ],
          "name": "stdout"
        }
      ]
    },
    {
      "cell_type": "markdown",
      "metadata": {
        "id": "embWJ8CB6A_O"
      },
      "source": [
        "##DecisionTreeClassifier"
      ]
    },
    {
      "cell_type": "code",
      "metadata": {
        "colab": {
          "base_uri": "https://localhost:8080/"
        },
        "id": "TCY31PLu5oQ7",
        "outputId": "74ba650f-34eb-45f0-a177-aad68ec9e439"
      },
      "source": [
        "from sklearn import tree\n",
        "from sklearn.tree import DecisionTreeClassifier\n",
        "clf_dtc = DecisionTreeClassifier(max_depth = 1000)\n",
        "clf_dtc.fit(X_train,y_train)\n",
        "acc_clf_dtc = np.mean(clf_dtc.predict(X_train) == y_train)\n",
        "test_acc_clf_dtc = np.mean(clf_dtc.predict(X_test) == y_test)\n",
        "print(f\"DecisionTreeClassifier Train Accuracy: {acc_clf_dtc}, Test Accuracy: {test_acc_clf_dtc}\")"
      ],
      "execution_count": 82,
      "outputs": [
        {
          "output_type": "stream",
          "text": [
            "DecisionTreeClassifier Train Accuracy: 1.0, Test Accuracy: 0.6152083333333334\n"
          ],
          "name": "stdout"
        }
      ]
    },
    {
      "cell_type": "markdown",
      "metadata": {
        "id": "I4Aw6-SXL1Ed"
      },
      "source": [
        "##Graphs"
      ]
    },
    {
      "cell_type": "code",
      "metadata": {
        "colab": {
          "base_uri": "https://localhost:8080/",
          "height": 423
        },
        "id": "Ji6m00kmIj_C",
        "outputId": "d5d23148-b961-4c91-8c82-858b81acb73d"
      },
      "source": [
        "from pandas import DataFrame\n",
        "!pip install matplotlib==3.1.0\n",
        "import matplotlib\n",
        "itog_val = {}\n",
        "itog_val['RandomForestClassifier'] = acc_clf_rf\n",
        "itog_val['DecisionTreeClassifier'] = acc_clf_dtc\n",
        "itog_val['KNeighborsClassifier_after_GS'] = acc_knn_new\n",
        "itog_val['GaussianNB'] = acc_nb\n",
        "itog_val['KNeighborsClassifier'] = acc_knn\n",
        "DataFrame.from_dict(data = itog_val, orient='index').plot(kind='bar', legend=False)"
      ],
      "execution_count": 95,
      "outputs": [
        {
          "output_type": "execute_result",
          "data": {
            "text/plain": [
              "<matplotlib.axes._subplots.AxesSubplot at 0x7f26b9d7eac8>"
            ]
          },
          "metadata": {
            "tags": []
          },
          "execution_count": 95
        },
        {
          "output_type": "display_data",
          "data": {
            "image/png": "[encoded data removed]",
            "text/plain": [
              "<Figure size 432x288 with 1 Axes>"
            ]
          },
          "metadata": {
            "tags": [],
            "needs_background": "light"
          }
        }
      ]
    },
    {
      "cell_type": "code",
      "metadata": {
        "colab": {
          "base_uri": "https://localhost:8080/",
          "height": 427
        },
        "id": "KdZrVIMWJMlq",
        "outputId": "08d3ec75-ae2a-419f-ecdb-31ab140aee0e"
      },
      "source": [
        "itog_val = {}\n",
        "itog_val['RandomForestClassifier'] = test_acc_clf_rf\n",
        "itog_val['DecisionTreeClassifier'] = test_acc_clf_dtc\n",
        "itog_val['KNeighborsClassifier_after_GS'] = test_acc_knn_new\n",
        "itog_val['GaussianNB'] = test_acc_nb\n",
        "itog_val['KNeighborsClassifier'] = test_acc_knn\n",
        "DataFrame.from_dict(data = itog_val, orient='index').plot(kind='bar', legend=False)"
      ],
      "execution_count": 96,
      "outputs": [
        {
          "output_type": "execute_result",
          "data": {
            "text/plain": [
              "<matplotlib.axes._subplots.AxesSubplot at 0x7f26b9d4b2b0>"
            ]
          },
          "metadata": {
            "tags": []
          },
          "execution_count": 96
        },
        {
          "output_type": "display_data",
          "data": {
            "image/png": "[encoded data removed]",
            "text/plain": [
              "<Figure size 432x288 with 1 Axes>"
            ]
          },
          "metadata": {
            "tags": [],
            "needs_background": "light"
          }
        }
      ]
    },
    {
      "cell_type": "code",
      "metadata": {
        "id": "6MTElOTWMM44"
      },
      "source": [
        ""
      ],
      "execution_count": null,
      "outputs": []
    },
    {
      "cell_type": "markdown",
      "metadata": {
        "id": "YzJejgZBMNTe"
      },
      "source": [
        "# FastText  ML"
      ]
    },
    {
      "cell_type": "markdown",
      "metadata": {
        "id": "rgXxOiWHMNTf"
      },
      "source": [
        "##Cross-validation"
      ]
    },
    {
      "cell_type": "code",
      "metadata": {
        "colab": {
          "base_uri": "https://localhost:8080/"
        },
        "id": "AU-j-IMUMNTf",
        "outputId": "260a8a79-8fb5-4911-8daf-f36e35ea67ac"
      },
      "source": [
        "y = TrainDF['target']\n",
        "X_train, X_test, y_train, y_test = train_test_split(Train_FT[\"Fasttext\"], y, test_size=0.2, random_state=666)\n",
        "\n",
        "# X_train= X_train.values.reshape(-1, 1)\n",
        "# y_train= y_train.values.reshape(-1, 1)\n",
        "# X_test = X_test.values.reshape(-1, 1)\n",
        "# y_test= y_test.values.reshape(-1, 1)\n",
        "\n",
        "\n",
        "X_train = list(X_train)\n",
        "X_test = list(X_test)\n",
        "X_train[:1]"
      ],
      "execution_count": 190,
      "outputs": [
        {
          "output_type": "execute_result",
          "data": {
            "text/plain": [
              "[array([   1.5977082,  100.452354 , -142.96011  ,  -85.85908  ],\n",
              "       dtype=float32)]"
            ]
          },
          "metadata": {
            "tags": []
          },
          "execution_count": 190
        }
      ]
    },
    {
      "cell_type": "markdown",
      "metadata": {
        "id": "UCDZBWSVMNTf"
      },
      "source": [
        "##KNN"
      ]
    },
    {
      "cell_type": "code",
      "metadata": {
        "colab": {
          "base_uri": "https://localhost:8080/"
        },
        "id": "7qn5LeUhMNTf",
        "outputId": "22989a3a-2200-4e1d-cdca-078245706cc7"
      },
      "source": [
        "knn = KNeighborsClassifier().fit(X_train, y_train)\n",
        "acc_knn = np.mean(knn.predict(X_train) == y_train)\n",
        "test_acc_knn = np.mean(knn.predict(X_test) == y_test)\n",
        "print(f\"Train Accuracy: {acc_knn}, Test Accuracy: {test_acc_knn}\")"
      ],
      "execution_count": 193,
      "outputs": [
        {
          "output_type": "stream",
          "text": [
            "Train Accuracy: 0.6943229166666667, Test Accuracy: 0.541875\n"
          ],
          "name": "stdout"
        }
      ]
    },
    {
      "cell_type": "markdown",
      "metadata": {
        "id": "CYRtlAILMNTf"
      },
      "source": [
        "##GaussianNB"
      ]
    },
    {
      "cell_type": "code",
      "metadata": {
        "colab": {
          "base_uri": "https://localhost:8080/"
        },
        "id": "Fc52hJWWMNTf",
        "outputId": "fedfb06e-1294-420a-df85-419fc5719821"
      },
      "source": [
        "nb = GaussianNB().fit(X_train, y_train)\n",
        "acc_nb = np.mean(nb.predict(X_train) == y_train)\n",
        "test_acc_nb = np.mean(nb.predict(X_test) == y_test)\n",
        "print(f\"Train Accuracy: {acc_nb}, Test Accuracy: {test_acc_nb}\")"
      ],
      "execution_count": 183,
      "outputs": [
        {
          "output_type": "stream",
          "text": [
            "Train Accuracy: 0.3470052083333333, Test Accuracy: 0.3471875\n"
          ],
          "name": "stdout"
        }
      ]
    },
    {
      "cell_type": "markdown",
      "metadata": {
        "id": "odkTWuTVMNTf"
      },
      "source": [
        "##GridSearchCV for knn"
      ]
    },
    {
      "cell_type": "code",
      "metadata": {
        "colab": {
          "base_uri": "https://localhost:8080/"
        },
        "id": "KMEEUc-RMNTf",
        "outputId": "80ed8338-4521-4144-f16d-762742d09b2c"
      },
      "source": [
        "gs = GridSearchCV(knn, param_grid={\"n_neighbors\": range(1,4)})\n",
        "gs.fit(X_train, y_train)\n",
        "#gs.best_params_, gs.best_score_, gs.best_estimator_.n_neighbors\n",
        "best = gs.best_estimator_.n_neighbors\n",
        "print(f\"Grid Search: {gs.best_params_, gs.best_score_, gs.best_estimator_.n_neighbors}\")"
      ],
      "execution_count": 186,
      "outputs": [
        {
          "output_type": "stream",
          "text": [
            "Grid Search: ({'n_neighbors': 3}, 0.5337239583333334, 3)\n"
          ],
          "name": "stdout"
        }
      ]
    },
    {
      "cell_type": "markdown",
      "metadata": {
        "id": "eyWT1uI1MNTf"
      },
      "source": [
        "##New knn"
      ]
    },
    {
      "cell_type": "code",
      "metadata": {
        "colab": {
          "base_uri": "https://localhost:8080/"
        },
        "id": "OyHx-HDWMNTf",
        "outputId": "e4274ec3-1fe1-4aaa-ff00-aaed445ed749"
      },
      "source": [
        "knn_new = KNeighborsClassifier(n_neighbors = best).fit(X_train, y_train)\n",
        "acc_knn_new = np.mean(knn_new.predict(X_train) == y_train)\n",
        "test_acc_knn_new = np.mean(knn_new.predict(X_test) == y_test)\n",
        "print(f\"Train Accuracy: {acc_knn_new}, Test Accuracy: {test_acc_knn_new}\")"
      ],
      "execution_count": 187,
      "outputs": [
        {
          "output_type": "stream",
          "text": [
            "Train Accuracy: 0.745859375, Test Accuracy: 0.5335416666666667\n"
          ],
          "name": "stdout"
        }
      ]
    },
    {
      "cell_type": "markdown",
      "metadata": {
        "id": "CQjqGDDvMNTf"
      },
      "source": [
        "##RandomForestClassifier"
      ]
    },
    {
      "cell_type": "code",
      "metadata": {
        "colab": {
          "base_uri": "https://localhost:8080/"
        },
        "id": "PH5SACrPMNTf",
        "outputId": "071059dd-0fa5-48ab-eb44-1a9b1323ea9d"
      },
      "source": [
        "from sklearn.ensemble import RandomForestClassifier\n",
        "clf_rf = RandomForestClassifier()\n",
        "clf_rf.fit(X_train, y_train)\n",
        "acc_clf_rf = np.mean(clf_rf.predict(X_train) == y_train)\n",
        "test_acc_clf_rf = np.mean(clf_rf.predict(X_test) == y_test)\n",
        "print(f\"RandomForestClassifier Train Accuracy: {acc_clf_rf}, Test Accuracy: {test_acc_clf_rf}\")"
      ],
      "execution_count": 184,
      "outputs": [
        {
          "output_type": "stream",
          "text": [
            "RandomForestClassifier Train Accuracy: 0.9999739583333334, Test Accuracy: 0.5667708333333333\n"
          ],
          "name": "stdout"
        }
      ]
    },
    {
      "cell_type": "markdown",
      "metadata": {
        "id": "xb4co1RoMNTf"
      },
      "source": [
        "##DecisionTreeClassifier"
      ]
    },
    {
      "cell_type": "code",
      "metadata": {
        "colab": {
          "base_uri": "https://localhost:8080/"
        },
        "id": "dMS3gLPjMNTf",
        "outputId": "b1a1645d-5670-4eef-caf5-5c3296a40b81"
      },
      "source": [
        "from sklearn import tree\n",
        "from sklearn.tree import DecisionTreeClassifier\n",
        "clf_dtc = DecisionTreeClassifier(max_depth = 1000)\n",
        "clf_dtc.fit(X_train,y_train)\n",
        "acc_clf_dtc = np.mean(clf_dtc.predict(X_train) == y_train)\n",
        "test_acc_clf_dtc = np.mean(clf_dtc.predict(X_test) == y_test)\n",
        "print(f\"DecisionTreeClassifier Train Accuracy: {acc_clf_dtc}, Test Accuracy: {test_acc_clf_dtc}\")"
      ],
      "execution_count": 185,
      "outputs": [
        {
          "output_type": "stream",
          "text": [
            "DecisionTreeClassifier Train Accuracy: 1.0, Test Accuracy: 0.5076041666666666\n"
          ],
          "name": "stdout"
        }
      ]
    },
    {
      "cell_type": "markdown",
      "metadata": {
        "id": "5k4aVqLOMNTf"
      },
      "source": [
        "##Graphs"
      ]
    },
    {
      "cell_type": "code",
      "metadata": {
        "colab": {
          "base_uri": "https://localhost:8080/",
          "height": 542
        },
        "id": "ulPc5QncMNTf",
        "outputId": "649cd7b3-8f5d-4c7d-e014-613b543128cc"
      },
      "source": [
        "from pandas import DataFrame\n",
        "!pip install matplotlib==3.1.0\n",
        "import matplotlib\n",
        "itog_val = {}\n",
        "itog_val['RandomForestClassifier'] = acc_clf_rf\n",
        "itog_val['DecisionTreeClassifier'] = acc_clf_dtc\n",
        "itog_val['KNeighborsClassifier_after_GS'] = acc_knn_new\n",
        "itog_val['GaussianNB'] = acc_nb\n",
        "itog_val['KNeighborsClassifier'] = acc_knn\n",
        "DataFrame.from_dict(data = itog_val, orient='index').plot(kind='bar', legend=False)"
      ],
      "execution_count": 188,
      "outputs": [
        {
          "output_type": "stream",
          "text": [
            "Requirement already satisfied: matplotlib==3.1.0 in /usr/local/lib/python3.6/dist-packages (3.1.0)\n",
            "Requirement already satisfied: kiwisolver>=1.0.1 in /usr/local/lib/python3.6/dist-packages (from matplotlib==3.1.0) (1.3.1)\n",
            "Requirement already satisfied: pyparsing!=2.0.4,!=2.1.2,!=2.1.6,>=2.0.1 in /usr/local/lib/python3.6/dist-packages (from matplotlib==3.1.0) (2.4.7)\n",
            "Requirement already satisfied: numpy>=1.11 in /usr/local/lib/python3.6/dist-packages (from matplotlib==3.1.0) (1.19.4)\n",
            "Requirement already satisfied: cycler>=0.10 in /usr/local/lib/python3.6/dist-packages (from matplotlib==3.1.0) (0.10.0)\n",
            "Requirement already satisfied: python-dateutil>=2.1 in /usr/local/lib/python3.6/dist-packages (from matplotlib==3.1.0) (2.8.1)\n",
            "Requirement already satisfied: six in /usr/local/lib/python3.6/dist-packages (from cycler>=0.10->matplotlib==3.1.0) (1.15.0)\n"
          ],
          "name": "stdout"
        },
        {
          "output_type": "execute_result",
          "data": {
            "text/plain": [
              "<matplotlib.axes._subplots.AxesSubplot at 0x7f26669c1828>"
            ]
          },
          "metadata": {
            "tags": []
          },
          "execution_count": 188
        },
        {
          "output_type": "display_data",
          "data": {
            "image/png": "[encoded data removed]",
            "text/plain": [
              "<Figure size 432x288 with 1 Axes>"
            ]
          },
          "metadata": {
            "tags": [],
            "needs_background": "light"
          }
        }
      ]
    },
    {
      "cell_type": "code",
      "metadata": {
        "colab": {
          "base_uri": "https://localhost:8080/",
          "height": 423
        },
        "id": "2N75U0VxMNTf",
        "outputId": "b22a6890-3598-4050-ace3-c4a009a46b47"
      },
      "source": [
        "itog_val = {}\n",
        "itog_val['RandomForestClassifier'] = test_acc_clf_rf\n",
        "itog_val['DecisionTreeClassifier'] = test_acc_clf_dtc\n",
        "itog_val['KNeighborsClassifier_after_GS'] = test_acc_knn_new\n",
        "itog_val['GaussianNB'] = test_acc_nb\n",
        "itog_val['KNeighborsClassifier'] = test_acc_knn\n",
        "DataFrame.from_dict(data = itog_val, orient='index').plot(kind='bar', legend=False)"
      ],
      "execution_count": 189,
      "outputs": [
        {
          "output_type": "execute_result",
          "data": {
            "text/plain": [
              "<matplotlib.axes._subplots.AxesSubplot at 0x7f2699482278>"
            ]
          },
          "metadata": {
            "tags": []
          },
          "execution_count": 189
        },
        {
          "output_type": "display_data",
          "data": {
            "image/png": "[encoded data removed]",
            "text/plain": [
              "<Figure size 432x288 with 1 Axes>"
            ]
          },
          "metadata": {
            "tags": [],
            "needs_background": "light"
          }
        }
      ]
    },
    {
      "cell_type": "code",
      "metadata": {
        "id": "bD9FJwovVmGX"
      },
      "source": [
        ""
      ],
      "execution_count": null,
      "outputs": []
    },
    {
      "cell_type": "markdown",
      "metadata": {
        "id": "bICekeJYVmus"
      },
      "source": [
        "# BoW  ML"
      ]
    },
    {
      "cell_type": "markdown",
      "metadata": {
        "id": "TkTBf59qVmus"
      },
      "source": [
        "##Cross-validation\n",
        "Дропает на запросе векторов"
      ]
    },
    {
      "cell_type": "code",
      "metadata": {
        "id": "3gYaJPm3Y4Ds"
      },
      "source": [
        "import numpy as np\n",
        "from sklearn.model_selection import train_test_split\n",
        "from sklearn.neighbors import KNeighborsClassifier\n",
        "from sklearn.naive_bayes import GaussianNB\n",
        "from sklearn.model_selection import GridSearchCV"
      ],
      "execution_count": 10,
      "outputs": []
    },
    {
      "cell_type": "code",
      "metadata": {
        "colab": {
          "base_uri": "https://localhost:8080/"
        },
        "id": "srD9U9JIVmus",
        "outputId": "5ef0bfc9-3da9-4b55-fd3c-22b87c07d587"
      },
      "source": [
        "y = TrainDF['target']\n",
        "type(X_train)\n",
        "\n",
        "# X_train.toarray()\n",
        "#Дропает, не хватеает ОЗУ"
      ],
      "execution_count": 70,
      "outputs": [
        {
          "output_type": "execute_result",
          "data": {
            "text/plain": [
              "pandas.core.series.Series"
            ]
          },
          "metadata": {
            "tags": []
          },
          "execution_count": 70
        }
      ]
    },
    {
      "cell_type": "markdown",
      "metadata": {
        "id": "r98UDMieVmut"
      },
      "source": [
        "##KNN"
      ]
    },
    {
      "cell_type": "code",
      "metadata": {
        "id": "LcINmf4qVmut"
      },
      "source": [
        "knn = KNeighborsClassifier().fit(X_train, y_train)\n",
        "acc_knn = np.mean(knn.predict(X_train) == y_train)\n",
        "test_acc_knn = np.mean(knn.predict(X_test) == y_test)\n",
        "print(f\"Train Accuracy: {acc_knn}, Test Accuracy: {test_acc_knn}\")"
      ],
      "execution_count": null,
      "outputs": []
    },
    {
      "cell_type": "markdown",
      "metadata": {
        "id": "fT-cQ0KgVmut"
      },
      "source": [
        "##GaussianNB"
      ]
    },
    {
      "cell_type": "code",
      "metadata": {
        "colab": {
          "base_uri": "https://localhost:8080/"
        },
        "id": "YkzWOiCZVmut",
        "outputId": "fedfb06e-1294-420a-df85-419fc5719821"
      },
      "source": [
        "nb = GaussianNB().fit(X_train, y_train)\n",
        "acc_nb = np.mean(nb.predict(X_train) == y_train)\n",
        "test_acc_nb = np.mean(nb.predict(X_test) == y_test)\n",
        "print(f\"Train Accuracy: {acc_nb}, Test Accuracy: {test_acc_nb}\")"
      ],
      "execution_count": null,
      "outputs": [
        {
          "output_type": "stream",
          "text": [
            "Train Accuracy: 0.3470052083333333, Test Accuracy: 0.3471875\n"
          ],
          "name": "stdout"
        }
      ]
    },
    {
      "cell_type": "markdown",
      "metadata": {
        "id": "OxApwmnPVmut"
      },
      "source": [
        "##GridSearchCV for knn"
      ]
    },
    {
      "cell_type": "code",
      "metadata": {
        "colab": {
          "base_uri": "https://localhost:8080/"
        },
        "id": "mdw6CdAzVmut",
        "outputId": "80ed8338-4521-4144-f16d-762742d09b2c"
      },
      "source": [
        "gs = GridSearchCV(knn, param_grid={\"n_neighbors\": range(1,4)})\n",
        "gs.fit(X_train, y_train)\n",
        "#gs.best_params_, gs.best_score_, gs.best_estimator_.n_neighbors\n",
        "best = gs.best_estimator_.n_neighbors\n",
        "print(f\"Grid Search: {gs.best_params_, gs.best_score_, gs.best_estimator_.n_neighbors}\")"
      ],
      "execution_count": null,
      "outputs": [
        {
          "output_type": "stream",
          "text": [
            "Grid Search: ({'n_neighbors': 3}, 0.5337239583333334, 3)\n"
          ],
          "name": "stdout"
        }
      ]
    },
    {
      "cell_type": "markdown",
      "metadata": {
        "id": "HmJTvo4VVmut"
      },
      "source": [
        "##New knn"
      ]
    },
    {
      "cell_type": "code",
      "metadata": {
        "colab": {
          "base_uri": "https://localhost:8080/"
        },
        "id": "z0HUqN8DVmut",
        "outputId": "e4274ec3-1fe1-4aaa-ff00-aaed445ed749"
      },
      "source": [
        "knn_new = KNeighborsClassifier(n_neighbors = best).fit(X_train, y_train)\n",
        "acc_knn_new = np.mean(knn_new.predict(X_train) == y_train)\n",
        "test_acc_knn_new = np.mean(knn_new.predict(X_test) == y_test)\n",
        "print(f\"Train Accuracy: {acc_knn_new}, Test Accuracy: {test_acc_knn_new}\")"
      ],
      "execution_count": null,
      "outputs": [
        {
          "output_type": "stream",
          "text": [
            "Train Accuracy: 0.745859375, Test Accuracy: 0.5335416666666667\n"
          ],
          "name": "stdout"
        }
      ]
    },
    {
      "cell_type": "markdown",
      "metadata": {
        "id": "fShMZismVmut"
      },
      "source": [
        "##RandomForestClassifier"
      ]
    },
    {
      "cell_type": "code",
      "metadata": {
        "colab": {
          "base_uri": "https://localhost:8080/"
        },
        "id": "aMi4wqTHVmut",
        "outputId": "071059dd-0fa5-48ab-eb44-1a9b1323ea9d"
      },
      "source": [
        "from sklearn.ensemble import RandomForestClassifier\n",
        "clf_rf = RandomForestClassifier()\n",
        "clf_rf.fit(X_train, y_train)\n",
        "acc_clf_rf = np.mean(clf_rf.predict(X_train) == y_train)\n",
        "test_acc_clf_rf = np.mean(clf_rf.predict(X_test) == y_test)\n",
        "print(f\"RandomForestClassifier Train Accuracy: {acc_clf_rf}, Test Accuracy: {test_acc_clf_rf}\")"
      ],
      "execution_count": null,
      "outputs": [
        {
          "output_type": "stream",
          "text": [
            "RandomForestClassifier Train Accuracy: 0.9999739583333334, Test Accuracy: 0.5667708333333333\n"
          ],
          "name": "stdout"
        }
      ]
    },
    {
      "cell_type": "markdown",
      "metadata": {
        "id": "U2z-vpH1Vmut"
      },
      "source": [
        "##DecisionTreeClassifier"
      ]
    },
    {
      "cell_type": "code",
      "metadata": {
        "colab": {
          "base_uri": "https://localhost:8080/"
        },
        "id": "angOmBnQVmut",
        "outputId": "b1a1645d-5670-4eef-caf5-5c3296a40b81"
      },
      "source": [
        "from sklearn import tree\n",
        "from sklearn.tree import DecisionTreeClassifier\n",
        "clf_dtc = DecisionTreeClassifier(max_depth = 1000)\n",
        "clf_dtc.fit(X_train,y_train)\n",
        "acc_clf_dtc = np.mean(clf_dtc.predict(X_train) == y_train)\n",
        "test_acc_clf_dtc = np.mean(clf_dtc.predict(X_test) == y_test)\n",
        "print(f\"DecisionTreeClassifier Train Accuracy: {acc_clf_dtc}, Test Accuracy: {test_acc_clf_dtc}\")"
      ],
      "execution_count": null,
      "outputs": [
        {
          "output_type": "stream",
          "text": [
            "DecisionTreeClassifier Train Accuracy: 1.0, Test Accuracy: 0.5076041666666666\n"
          ],
          "name": "stdout"
        }
      ]
    },
    {
      "cell_type": "markdown",
      "metadata": {
        "id": "LLw_WGruVmut"
      },
      "source": [
        "##Graphs"
      ]
    },
    {
      "cell_type": "code",
      "metadata": {
        "colab": {
          "base_uri": "https://localhost:8080/"
        },
        "id": "PhYqPX6QVmut",
        "outputId": "649cd7b3-8f5d-4c7d-e014-613b543128cc"
      },
      "source": [
        "from pandas import DataFrame\n",
        "!pip install matplotlib==3.1.0\n",
        "import matplotlib\n",
        "itog_val = {}\n",
        "itog_val['RandomForestClassifier'] = acc_clf_rf\n",
        "itog_val['DecisionTreeClassifier'] = acc_clf_dtc\n",
        "itog_val['KNeighborsClassifier_after_GS'] = acc_knn_new\n",
        "itog_val['GaussianNB'] = acc_nb\n",
        "itog_val['KNeighborsClassifier'] = acc_knn\n",
        "DataFrame.from_dict(data = itog_val, orient='index').plot(kind='bar', legend=False)"
      ],
      "execution_count": null,
      "outputs": [
        {
          "output_type": "stream",
          "text": [
            "Requirement already satisfied: matplotlib==3.1.0 in /usr/local/lib/python3.6/dist-packages (3.1.0)\n",
            "Requirement already satisfied: kiwisolver>=1.0.1 in /usr/local/lib/python3.6/dist-packages (from matplotlib==3.1.0) (1.3.1)\n",
            "Requirement already satisfied: pyparsing!=2.0.4,!=2.1.2,!=2.1.6,>=2.0.1 in /usr/local/lib/python3.6/dist-packages (from matplotlib==3.1.0) (2.4.7)\n",
            "Requirement already satisfied: numpy>=1.11 in /usr/local/lib/python3.6/dist-packages (from matplotlib==3.1.0) (1.19.4)\n",
            "Requirement already satisfied: cycler>=0.10 in /usr/local/lib/python3.6/dist-packages (from matplotlib==3.1.0) (0.10.0)\n",
            "Requirement already satisfied: python-dateutil>=2.1 in /usr/local/lib/python3.6/dist-packages (from matplotlib==3.1.0) (2.8.1)\n",
            "Requirement already satisfied: six in /usr/local/lib/python3.6/dist-packages (from cycler>=0.10->matplotlib==3.1.0) (1.15.0)\n"
          ],
          "name": "stdout"
        },
        {
          "output_type": "execute_result",
          "data": {
            "text/plain": [
              "<matplotlib.axes._subplots.AxesSubplot at 0x7f26669c1828>"
            ]
          },
          "metadata": {
            "tags": []
          },
          "execution_count": 188
        },
        {
          "output_type": "display_data",
          "data": {
            "image/png": "[encoded data removed]",
            "text/plain": [
              "<Figure size 432x288 with 1 Axes>"
            ]
          },
          "metadata": {
            "tags": [],
            "needs_background": "light"
          }
        }
      ]
    },
    {
      "cell_type": "code",
      "metadata": {
        "colab": {
          "base_uri": "https://localhost:8080/"
        },
        "id": "VzoSlSWIVmut",
        "outputId": "b22a6890-3598-4050-ace3-c4a009a46b47"
      },
      "source": [
        "itog_val = {}\n",
        "itog_val['RandomForestClassifier'] = test_acc_clf_rf\n",
        "itog_val['DecisionTreeClassifier'] = test_acc_clf_dtc\n",
        "itog_val['KNeighborsClassifier_after_GS'] = test_acc_knn_new\n",
        "itog_val['GaussianNB'] = test_acc_nb\n",
        "itog_val['KNeighborsClassifier'] = test_acc_knn\n",
        "DataFrame.from_dict(data = itog_val, orient='index').plot(kind='bar', legend=False)"
      ],
      "execution_count": null,
      "outputs": [
        {
          "output_type": "execute_result",
          "data": {
            "text/plain": [
              "<matplotlib.axes._subplots.AxesSubplot at 0x7f2699482278>"
            ]
          },
          "metadata": {
            "tags": []
          },
          "execution_count": 189
        },
        {
          "output_type": "display_data",
          "data": {
            "image/png": "[encoded data removed]",
            "text/plain": [
              "<Figure size 432x288 with 1 Axes>"
            ]
          },
          "metadata": {
            "tags": [],
            "needs_background": "light"
          }
        }
      ]
    },
    {
      "cell_type": "markdown",
      "metadata": {
        "id": "voLcAxC5ZvYo"
      },
      "source": [
        ""
      ]
    },
    {
      "cell_type": "code",
      "metadata": {
        "id": "AgAxsoECZoc7"
      },
      "source": [
        ""
      ],
      "execution_count": null,
      "outputs": []
    },
    {
      "cell_type": "markdown",
      "metadata": {
        "id": "XPQXvuEuZymi"
      },
      "source": [
        "# TF-IDF ML"
      ]
    },
    {
      "cell_type": "markdown",
      "metadata": {
        "id": "cnDeaUaDZymi"
      },
      "source": [
        "##Cross-validation \n",
        "Дропает на запросе векторов"
      ]
    },
    {
      "cell_type": "code",
      "metadata": {
        "id": "dn1bY01jZymi"
      },
      "source": [
        "import numpy as np\n",
        "from sklearn.model_selection import train_test_split\n",
        "from sklearn.neighbors import KNeighborsClassifier\n",
        "from sklearn.naive_bayes import GaussianNB\n",
        "from sklearn.model_selection import GridSearchCV"
      ],
      "execution_count": 9,
      "outputs": []
    },
    {
      "cell_type": "code",
      "metadata": {
        "id": "W0zE_zIhZymi"
      },
      "source": [
        "y = TrainDF['target']\n",
        "X_train, X_test, y_train, y_test = train_test_split(Train_TDIDF, y, test_size=0.2, random_state=666)\n",
        "\n",
        "X_train.toarray()\n"
      ],
      "execution_count": null,
      "outputs": []
    },
    {
      "cell_type": "markdown",
      "metadata": {
        "id": "waRwTmfpZymi"
      },
      "source": [
        "##KNN"
      ]
    },
    {
      "cell_type": "code",
      "metadata": {
        "id": "Azn4jqBXZymi"
      },
      "source": [
        "knn = KNeighborsClassifier().fit(X_train, y_train)\n",
        "acc_knn = np.mean(knn.predict(X_train) == y_train)\n",
        "test_acc_knn = np.mean(knn.predict(X_test) == y_test)\n",
        "print(f\"Train Accuracy: {acc_knn}, Test Accuracy: {test_acc_knn}\")"
      ],
      "execution_count": null,
      "outputs": []
    },
    {
      "cell_type": "markdown",
      "metadata": {
        "id": "E5vA6Xb8Zymi"
      },
      "source": [
        "##GaussianNB"
      ]
    },
    {
      "cell_type": "code",
      "metadata": {
        "colab": {
          "base_uri": "https://localhost:8080/"
        },
        "id": "ZeHg3g6GZymi",
        "outputId": "fedfb06e-1294-420a-df85-419fc5719821"
      },
      "source": [
        "nb = GaussianNB().fit(X_train, y_train)\n",
        "acc_nb = np.mean(nb.predict(X_train) == y_train)\n",
        "test_acc_nb = np.mean(nb.predict(X_test) == y_test)\n",
        "print(f\"Train Accuracy: {acc_nb}, Test Accuracy: {test_acc_nb}\")"
      ],
      "execution_count": null,
      "outputs": [
        {
          "output_type": "stream",
          "text": [
            "Train Accuracy: 0.3470052083333333, Test Accuracy: 0.3471875\n"
          ],
          "name": "stdout"
        }
      ]
    },
    {
      "cell_type": "markdown",
      "metadata": {
        "id": "csoHgNA8Zymi"
      },
      "source": [
        "##GridSearchCV for knn"
      ]
    },
    {
      "cell_type": "code",
      "metadata": {
        "colab": {
          "base_uri": "https://localhost:8080/"
        },
        "id": "qT6OLsYHZymj",
        "outputId": "80ed8338-4521-4144-f16d-762742d09b2c"
      },
      "source": [
        "gs = GridSearchCV(knn, param_grid={\"n_neighbors\": range(1,4)})\n",
        "gs.fit(X_train, y_train)\n",
        "#gs.best_params_, gs.best_score_, gs.best_estimator_.n_neighbors\n",
        "best = gs.best_estimator_.n_neighbors\n",
        "print(f\"Grid Search: {gs.best_params_, gs.best_score_, gs.best_estimator_.n_neighbors}\")"
      ],
      "execution_count": null,
      "outputs": [
        {
          "output_type": "stream",
          "text": [
            "Grid Search: ({'n_neighbors': 3}, 0.5337239583333334, 3)\n"
          ],
          "name": "stdout"
        }
      ]
    },
    {
      "cell_type": "markdown",
      "metadata": {
        "id": "G21LAtM9Zymj"
      },
      "source": [
        "##New knn"
      ]
    },
    {
      "cell_type": "code",
      "metadata": {
        "colab": {
          "base_uri": "https://localhost:8080/"
        },
        "id": "QI2IaFqdZymj",
        "outputId": "e4274ec3-1fe1-4aaa-ff00-aaed445ed749"
      },
      "source": [
        "knn_new = KNeighborsClassifier(n_neighbors = best).fit(X_train, y_train)\n",
        "acc_knn_new = np.mean(knn_new.predict(X_train) == y_train)\n",
        "test_acc_knn_new = np.mean(knn_new.predict(X_test) == y_test)\n",
        "print(f\"Train Accuracy: {acc_knn_new}, Test Accuracy: {test_acc_knn_new}\")"
      ],
      "execution_count": null,
      "outputs": [
        {
          "output_type": "stream",
          "text": [
            "Train Accuracy: 0.745859375, Test Accuracy: 0.5335416666666667\n"
          ],
          "name": "stdout"
        }
      ]
    },
    {
      "cell_type": "markdown",
      "metadata": {
        "id": "4bucz5WOZymj"
      },
      "source": [
        "##RandomForestClassifier"
      ]
    },
    {
      "cell_type": "code",
      "metadata": {
        "colab": {
          "base_uri": "https://localhost:8080/"
        },
        "id": "yy73DyFGZymj",
        "outputId": "071059dd-0fa5-48ab-eb44-1a9b1323ea9d"
      },
      "source": [
        "from sklearn.ensemble import RandomForestClassifier\n",
        "clf_rf = RandomForestClassifier()\n",
        "clf_rf.fit(X_train, y_train)\n",
        "acc_clf_rf = np.mean(clf_rf.predict(X_train) == y_train)\n",
        "test_acc_clf_rf = np.mean(clf_rf.predict(X_test) == y_test)\n",
        "print(f\"RandomForestClassifier Train Accuracy: {acc_clf_rf}, Test Accuracy: {test_acc_clf_rf}\")"
      ],
      "execution_count": null,
      "outputs": [
        {
          "output_type": "stream",
          "text": [
            "RandomForestClassifier Train Accuracy: 0.9999739583333334, Test Accuracy: 0.5667708333333333\n"
          ],
          "name": "stdout"
        }
      ]
    },
    {
      "cell_type": "markdown",
      "metadata": {
        "id": "_Ml6utnsZymj"
      },
      "source": [
        "##DecisionTreeClassifier"
      ]
    },
    {
      "cell_type": "code",
      "metadata": {
        "colab": {
          "base_uri": "https://localhost:8080/"
        },
        "id": "7Rl4iXKNZymj",
        "outputId": "b1a1645d-5670-4eef-caf5-5c3296a40b81"
      },
      "source": [
        "from sklearn import tree\n",
        "from sklearn.tree import DecisionTreeClassifier\n",
        "clf_dtc = DecisionTreeClassifier(max_depth = 1000)\n",
        "clf_dtc.fit(X_train,y_train)\n",
        "acc_clf_dtc = np.mean(clf_dtc.predict(X_train) == y_train)\n",
        "test_acc_clf_dtc = np.mean(clf_dtc.predict(X_test) == y_test)\n",
        "print(f\"DecisionTreeClassifier Train Accuracy: {acc_clf_dtc}, Test Accuracy: {test_acc_clf_dtc}\")"
      ],
      "execution_count": null,
      "outputs": [
        {
          "output_type": "stream",
          "text": [
            "DecisionTreeClassifier Train Accuracy: 1.0, Test Accuracy: 0.5076041666666666\n"
          ],
          "name": "stdout"
        }
      ]
    },
    {
      "cell_type": "markdown",
      "metadata": {
        "id": "KLrw6be9Zymj"
      },
      "source": [
        "##Graphs"
      ]
    },
    {
      "cell_type": "code",
      "metadata": {
        "colab": {
          "base_uri": "https://localhost:8080/"
        },
        "id": "-LYwP7gTZymj",
        "outputId": "649cd7b3-8f5d-4c7d-e014-613b543128cc"
      },
      "source": [
        "from pandas import DataFrame\n",
        "!pip install matplotlib==3.1.0\n",
        "import matplotlib\n",
        "itog_val = {}\n",
        "itog_val['RandomForestClassifier'] = acc_clf_rf\n",
        "itog_val['DecisionTreeClassifier'] = acc_clf_dtc\n",
        "itog_val['KNeighborsClassifier_after_GS'] = acc_knn_new\n",
        "itog_val['GaussianNB'] = acc_nb\n",
        "itog_val['KNeighborsClassifier'] = acc_knn\n",
        "DataFrame.from_dict(data = itog_val, orient='index').plot(kind='bar', legend=False)"
      ],
      "execution_count": null,
      "outputs": [
        {
          "output_type": "stream",
          "text": [
            "Requirement already satisfied: matplotlib==3.1.0 in /usr/local/lib/python3.6/dist-packages (3.1.0)\n",
            "Requirement already satisfied: kiwisolver>=1.0.1 in /usr/local/lib/python3.6/dist-packages (from matplotlib==3.1.0) (1.3.1)\n",
            "Requirement already satisfied: pyparsing!=2.0.4,!=2.1.2,!=2.1.6,>=2.0.1 in /usr/local/lib/python3.6/dist-packages (from matplotlib==3.1.0) (2.4.7)\n",
            "Requirement already satisfied: numpy>=1.11 in /usr/local/lib/python3.6/dist-packages (from matplotlib==3.1.0) (1.19.4)\n",
            "Requirement already satisfied: cycler>=0.10 in /usr/local/lib/python3.6/dist-packages (from matplotlib==3.1.0) (0.10.0)\n",
            "Requirement already satisfied: python-dateutil>=2.1 in /usr/local/lib/python3.6/dist-packages (from matplotlib==3.1.0) (2.8.1)\n",
            "Requirement already satisfied: six in /usr/local/lib/python3.6/dist-packages (from cycler>=0.10->matplotlib==3.1.0) (1.15.0)\n"
          ],
          "name": "stdout"
        },
        {
          "output_type": "execute_result",
          "data": {
            "text/plain": [
              "<matplotlib.axes._subplots.AxesSubplot at 0x7f26669c1828>"
            ]
          },
          "metadata": {
            "tags": []
          },
          "execution_count": 188
        },
        {
          "output_type": "display_data",
          "data": {
            "image/png": "[encoded data removed]",
            "text/plain": [
              "<Figure size 432x288 with 1 Axes>"
            ]
          },
          "metadata": {
            "tags": [],
            "needs_background": "light"
          }
        }
      ]
    },
    {
      "cell_type": "code",
      "metadata": {
        "colab": {
          "base_uri": "https://localhost:8080/"
        },
        "id": "72kpFsUFZymj",
        "outputId": "b22a6890-3598-4050-ace3-c4a009a46b47"
      },
      "source": [
        "itog_val = {}\n",
        "itog_val['RandomForestClassifier'] = test_acc_clf_rf\n",
        "itog_val['DecisionTreeClassifier'] = test_acc_clf_dtc\n",
        "itog_val['KNeighborsClassifier_after_GS'] = test_acc_knn_new\n",
        "itog_val['GaussianNB'] = test_acc_nb\n",
        "itog_val['KNeighborsClassifier'] = test_acc_knn\n",
        "DataFrame.from_dict(data = itog_val, orient='index').plot(kind='bar', legend=False)"
      ],
      "execution_count": null,
      "outputs": [
        {
          "output_type": "execute_result",
          "data": {
            "text/plain": [
              "<matplotlib.axes._subplots.AxesSubplot at 0x7f2699482278>"
            ]
          },
          "metadata": {
            "tags": []
          },
          "execution_count": 189
        },
        {
          "output_type": "display_data",
          "data": {
            "image/png": "[encoded data removed]",
            "text/plain": [
              "<Figure size 432x288 with 1 Axes>"
            ]
          },
          "metadata": {
            "tags": [],
            "needs_background": "light"
          }
        }
      ]
    },
    {
      "cell_type": "markdown",
      "metadata": {
        "id": "fwK8GNZiZymj"
      },
      "source": [
        ""
      ]
    },
    {
      "cell_type": "markdown",
      "metadata": {
        "id": "ZBnUdomqiAxi"
      },
      "source": [
        "# Keras"
      ]
    },
    {
      "cell_type": "code",
      "metadata": {
        "id": "kD8WCrveZymj"
      },
      "source": [
        "from sklearn.model_selection import train_test_split\n",
        "import torch\n",
        "y = TrainDF['target']\n",
        "X_train, X_test, y_train, y_test = train_test_split(Train_W2V_Pre[\"W2V Pre\"], y, test_size=0.2, random_state=666)\n",
        "\n",
        "X_train = list(X_train)\n",
        "y_train = list(y_train)\n",
        "X_test = list(X_test)\n",
        "y_test = list(y_test)\n",
        "\n",
        "vector = []\n",
        "for i in range(len(X_train)):\n",
        "  vector.append(np.array(X_train[i]))\n",
        "X_train = vector\n",
        "\n",
        "vector = []\n",
        "for i in range(len(y_train)):\n",
        "  vector.append(np.array(y_train[i]))\n",
        "y_train = vector  \n",
        "\n",
        "vector = []\n",
        "for i in range(len(X_test)):\n",
        "  vector.append(np.array(X_test[i]))\n",
        "X_test = vector  \n",
        "\n",
        "for i in range(len(y_test)):\n",
        "  vector.append(np.array([y_test[i]]))\n",
        "y_test = vector  "
      ],
      "execution_count": null,
      "outputs": []
    },
    {
      "cell_type": "code",
      "metadata": {
        "colab": {
          "base_uri": "https://localhost:8080/",
          "height": 333
        },
        "id": "CMjc-eMG-U3V",
        "outputId": "f6ea21af-49d9-4421-e2a8-2c74e5dfb5ed"
      },
      "source": [
        "def vectorize(sequences, dimension = 10000):\n",
        "  results = np.zeros((len(sequences), dimension))\n",
        "  for i, sequence in enumerate(sequences):\n",
        "    results[i, sequence] = 1\n",
        "  return results\n",
        " \n",
        "X_train = vectorize(X_train)\n",
        "targets = np.array(targets).astype(\"float32\")"
      ],
      "execution_count": 209,
      "outputs": [
        {
          "output_type": "error",
          "ename": "IndexError",
          "evalue": "ignored",
          "traceback": [
            "\u001b[0;31m---------------------------------------------------------------------------\u001b[0m",
            "\u001b[0;31mIndexError\u001b[0m                                Traceback (most recent call last)",
            "\u001b[0;32m<ipython-input-209-4ca1feedabf9>\u001b[0m in \u001b[0;36m<module>\u001b[0;34m()\u001b[0m\n\u001b[1;32m      5\u001b[0m   \u001b[0;32mreturn\u001b[0m \u001b[0mresults\u001b[0m\u001b[0;34m\u001b[0m\u001b[0;34m\u001b[0m\u001b[0m\n\u001b[1;32m      6\u001b[0m \u001b[0;34m\u001b[0m\u001b[0m\n\u001b[0;32m----> 7\u001b[0;31m \u001b[0mX_train\u001b[0m \u001b[0;34m=\u001b[0m \u001b[0mvectorize\u001b[0m\u001b[0;34m(\u001b[0m\u001b[0mX_train\u001b[0m\u001b[0;34m)\u001b[0m\u001b[0;34m\u001b[0m\u001b[0;34m\u001b[0m\u001b[0m\n\u001b[0m\u001b[1;32m      8\u001b[0m \u001b[0mtargets\u001b[0m \u001b[0;34m=\u001b[0m \u001b[0mnp\u001b[0m\u001b[0;34m.\u001b[0m\u001b[0marray\u001b[0m\u001b[0;34m(\u001b[0m\u001b[0mtargets\u001b[0m\u001b[0;34m)\u001b[0m\u001b[0;34m.\u001b[0m\u001b[0mastype\u001b[0m\u001b[0;34m(\u001b[0m\u001b[0;34m\"float32\"\u001b[0m\u001b[0;34m)\u001b[0m\u001b[0;34m\u001b[0m\u001b[0;34m\u001b[0m\u001b[0m\n",
            "\u001b[0;32m<ipython-input-209-4ca1feedabf9>\u001b[0m in \u001b[0;36mvectorize\u001b[0;34m(sequences, dimension)\u001b[0m\n\u001b[1;32m      2\u001b[0m   \u001b[0mresults\u001b[0m \u001b[0;34m=\u001b[0m \u001b[0mnp\u001b[0m\u001b[0;34m.\u001b[0m\u001b[0mzeros\u001b[0m\u001b[0;34m(\u001b[0m\u001b[0;34m(\u001b[0m\u001b[0mlen\u001b[0m\u001b[0;34m(\u001b[0m\u001b[0msequences\u001b[0m\u001b[0;34m)\u001b[0m\u001b[0;34m,\u001b[0m \u001b[0mdimension\u001b[0m\u001b[0;34m)\u001b[0m\u001b[0;34m)\u001b[0m\u001b[0;34m\u001b[0m\u001b[0;34m\u001b[0m\u001b[0m\n\u001b[1;32m      3\u001b[0m   \u001b[0;32mfor\u001b[0m \u001b[0mi\u001b[0m\u001b[0;34m,\u001b[0m \u001b[0msequence\u001b[0m \u001b[0;32min\u001b[0m \u001b[0menumerate\u001b[0m\u001b[0;34m(\u001b[0m\u001b[0msequences\u001b[0m\u001b[0;34m)\u001b[0m\u001b[0;34m:\u001b[0m\u001b[0;34m\u001b[0m\u001b[0;34m\u001b[0m\u001b[0m\n\u001b[0;32m----> 4\u001b[0;31m     \u001b[0mresults\u001b[0m\u001b[0;34m[\u001b[0m\u001b[0mi\u001b[0m\u001b[0;34m,\u001b[0m \u001b[0msequence\u001b[0m\u001b[0;34m]\u001b[0m \u001b[0;34m=\u001b[0m \u001b[0;36m1\u001b[0m\u001b[0;34m\u001b[0m\u001b[0;34m\u001b[0m\u001b[0m\n\u001b[0m\u001b[1;32m      5\u001b[0m   \u001b[0;32mreturn\u001b[0m \u001b[0mresults\u001b[0m\u001b[0;34m\u001b[0m\u001b[0;34m\u001b[0m\u001b[0m\n\u001b[1;32m      6\u001b[0m \u001b[0;34m\u001b[0m\u001b[0m\n",
            "\u001b[0;31mIndexError\u001b[0m: arrays used as indices must be of integer (or boolean) type"
          ]
        }
      ]
    },
    {
      "cell_type": "code",
      "metadata": {
        "id": "zLCWBw7TqKMx"
      },
      "source": [
        "import numpy as np\n",
        "import tensorflow as tf\n",
        "from keras.utils import to_categorical, Sequence \n",
        "from keras import models\n",
        "from keras import layers\n",
        "\n",
        "model.add(layers.Dense(50, activation = \"relu\", input_shape=(10000, )))\n",
        "model.add(layers.Dropout(0.3, noise_shape=None, seed=None))\n",
        "model.add(layers.Dense(50, activation = \"relu\"))\n",
        "model.add(layers.Dropout(0.2, noise_shape=None, seed=None))\n",
        "model.add(layers.Dense(50, activation = \"relu\"))\n",
        "\n",
        "model.add(layers.Dense(1, activation = \"sigmoid\"))\n",
        "\n",
        "model.summary()"
      ],
      "execution_count": null,
      "outputs": []
    },
    {
      "cell_type": "code",
      "metadata": {
        "id": "t4YPdZErsiwa"
      },
      "source": [
        "model.compile(\n",
        " optimizer = \"adam\",\n",
        " loss = \"binary_crossentropy\",\n",
        " metrics = [\"accuracy\"]\n",
        ")"
      ],
      "execution_count": 203,
      "outputs": []
    },
    {
      "cell_type": "markdown",
      "metadata": {
        "id": "8QKRm_lo_Sra"
      },
      "source": [
        "Не получается запустить, видимо, с данными проблема(с форматом)"
      ]
    },
    {
      "cell_type": "code",
      "metadata": {
        "id": "8fZyyu_SslF6"
      },
      "source": [
        "results = model.fit(\n",
        " X_train, y_train,\n",
        " epochs= 2,\n",
        " batch_size = 50,\n",
        " validation_data = (X_test, y_test))\n"
      ],
      "execution_count": null,
      "outputs": []
    },
    {
      "cell_type": "code",
      "metadata": {
        "colab": {
          "base_uri": "https://localhost:8080/"
        },
        "id": "fZQkB67U-sas",
        "outputId": "a7d53cfb-c566-4348-d9c4-7d989b59ad64"
      },
      "source": [
        "import numpy as np\n",
        "from keras.utils import to_categorical\n",
        "from keras import models\n",
        "from keras import layers\n",
        "from keras.datasets import imdb\n",
        "(training_data, training_targets), (testing_data, testing_targets) = imdb.load_data(num_words=10000)\n",
        "data = np.concatenate((training_data, testing_data), axis=0)\n",
        "targets = np.concatenate((training_targets, testing_targets), axis=0)\n",
        "\n",
        "def vectorize(sequences, dimension = 10000):\n",
        " results = np.zeros((len(sequences), dimension))\n",
        " for i, sequence in enumerate(sequences):\n",
        "  results[i, sequence] = 1\n",
        " return results\n",
        " \n",
        "data = vectorize(data)\n",
        "targets = np.array(targets).astype(\"float32\")\n",
        "test_x = data[:10000]\n",
        "test_y = targets[:10000]\n",
        "train_x = data[10000:]\n",
        "train_y = targets[10000:]\n",
        "\n",
        "model = models.Sequential()\n",
        "# Input - Layer\n",
        "model.add(layers.Dense(50, activation = \"relu\", input_shape=(10000, )))\n",
        "# Hidden - Layers\n",
        "model.add(layers.Dropout(0.3, noise_shape=None, seed=None))\n",
        "model.add(layers.Dense(50, activation = \"relu\"))\n",
        "model.add(layers.Dropout(0.2, noise_shape=None, seed=None))\n",
        "model.add(layers.Dense(50, activation = \"relu\"))\n",
        "# Output- Layer\n",
        "model.add(layers.Dense(1, activation = \"sigmoid\"))\n",
        "model.summary()\n",
        "# compiling the model\n",
        "model.compile(\n",
        " optimizer = \"adam\",\n",
        " loss = \"binary_crossentropy\",\n",
        " metrics = [\"accuracy\"]\n",
        ")\n",
        "results = model.fit(\n",
        " train_x, train_y,\n",
        " epochs= 2,\n",
        " batch_size = 500,\n",
        " validation_data = (test_x, test_y)\n",
        ")\n",
        "print(\"Test-Accuracy:\", np.mean(results.history[\"val_accuracy\"]))"
      ],
      "execution_count": 3,
      "outputs": [
        {
          "output_type": "stream",
          "text": [
            "<string>:6: VisibleDeprecationWarning: Creating an ndarray from ragged nested sequences (which is a list-or-tuple of lists-or-tuples-or ndarrays with different lengths or shapes) is deprecated. If you meant to do this, you must specify 'dtype=object' when creating the ndarray\n",
            "/usr/local/lib/python3.6/dist-packages/tensorflow/python/keras/datasets/imdb.py:159: VisibleDeprecationWarning: Creating an ndarray from ragged nested sequences (which is a list-or-tuple of lists-or-tuples-or ndarrays with different lengths or shapes) is deprecated. If you meant to do this, you must specify 'dtype=object' when creating the ndarray\n",
            "  x_train, y_train = np.array(xs[:idx]), np.array(labels[:idx])\n",
            "/usr/local/lib/python3.6/dist-packages/tensorflow/python/keras/datasets/imdb.py:160: VisibleDeprecationWarning: Creating an ndarray from ragged nested sequences (which is a list-or-tuple of lists-or-tuples-or ndarrays with different lengths or shapes) is deprecated. If you meant to do this, you must specify 'dtype=object' when creating the ndarray\n",
            "  x_test, y_test = np.array(xs[idx:]), np.array(labels[idx:])\n"
          ],
          "name": "stderr"
        },
        {
          "output_type": "stream",
          "text": [
            "Model: \"sequential_2\"\n",
            "_________________________________________________________________\n",
            "Layer (type)                 Output Shape              Param #   \n",
            "=================================================================\n",
            "dense_8 (Dense)              (None, 50)                500050    \n",
            "_________________________________________________________________\n",
            "dropout_4 (Dropout)          (None, 50)                0         \n",
            "_________________________________________________________________\n",
            "dense_9 (Dense)              (None, 50)                2550      \n",
            "_________________________________________________________________\n",
            "dropout_5 (Dropout)          (None, 50)                0         \n",
            "_________________________________________________________________\n",
            "dense_10 (Dense)             (None, 50)                2550      \n",
            "_________________________________________________________________\n",
            "dense_11 (Dense)             (None, 1)                 51        \n",
            "=================================================================\n",
            "Total params: 505,201\n",
            "Trainable params: 505,201\n",
            "Non-trainable params: 0\n",
            "_________________________________________________________________\n",
            "Epoch 1/2\n",
            "80/80 [==============================] - 4s 47ms/step - loss: 0.4211 - accuracy: 0.8109 - val_loss: 0.2633 - val_accuracy: 0.8955\n",
            "Epoch 2/2\n",
            "80/80 [==============================] - 4s 44ms/step - loss: 0.2160 - accuracy: 0.9159 - val_loss: 0.2665 - val_accuracy: 0.8914\n",
            "Test-Accuracy: 0.893449991941452\n"
          ],
          "name": "stdout"
        }
      ]
    }
  ]
}