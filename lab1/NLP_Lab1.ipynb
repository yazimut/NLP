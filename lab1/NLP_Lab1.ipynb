{
 "cells": [
  {
   "cell_type": "markdown",
   "metadata": {},
   "source": [
    "Source \"train.parquet\" and \"test.parquet\" had been recompressed \n",
    "with engine \"fastparquet\" and compression \"gzip\". \n",
    "Original \"pyarrow\" with \"snappy\" crashes Jupyter )(\n",
    "\"fastparquet\" with \"gzip\" properlly works in Jupyter as well, \n",
    "as in Google Collab"
   ]
  },
  {
   "cell_type": "markdown",
   "metadata": {},
   "source": [
    "# Prerequisites"
   ]
  },
  {
   "cell_type": "code",
   "execution_count": null,
   "metadata": {
    "scrolled": true
   },
   "outputs": [],
   "source": [
    "!pip install --upgrade numpy pandas matplotlib fastparquet nltk sklearn gensim"
   ]
  },
  {
   "cell_type": "code",
   "execution_count": 78,
   "metadata": {
    "id": "ZEmbpVDM4wyR"
   },
   "outputs": [],
   "source": [
    "                                        import re\n",
    "                                        import numpy\n",
    "                                        import pandas\n",
    "from    matplotlib                      import pyplot\n",
    "                                        import fastparquet\n",
    "                                        import nltk\n",
    "from    nltk.corpus                     import stopwords\n",
    "from    nltk.stem                       import WordNetLemmatizer\n",
    "from    nltk.tokenize                   import WordPunctTokenizer\n",
    "from    sklearn.preprocessing           import OneHotEncoder\n",
    "from    sklearn.feature_extraction.text import TfidfVectorizer\n",
    "from    sklearn.feature_extraction.text import CountVectorizer\n",
    "from    gensim.models                   import Word2Vec\n",
    "from    gensim.models.fasttext          import FastText\n",
    "from    gensim.models                   import KeyedVectors"
   ]
  },
  {
   "cell_type": "code",
   "execution_count": 5,
   "metadata": {
    "id": "n7ELshjMSWYp"
   },
   "outputs": [],
   "source": [
    "# Use this variable to suppress output\n",
    "DevNull = 0"
   ]
  },
  {
   "cell_type": "code",
   "execution_count": 6,
   "metadata": {
    "colab": {
     "base_uri": "https://localhost:8080/"
    },
    "id": "Yi7H3gGZddPv",
    "outputId": "c1cc67fc-da4f-4509-81eb-eda319ef188c",
    "scrolled": false
   },
   "outputs": [
    {
     "name": "stderr",
     "output_type": "stream",
     "text": [
      "[nltk_data] Downloading package wordnet to\n",
      "[nltk_data]     C:\\Users\\azimut\\AppData\\Roaming\\nltk_data...\n",
      "[nltk_data]   Package wordnet is already up-to-date!\n",
      "[nltk_data] Downloading package stopwords to\n",
      "[nltk_data]     C:\\Users\\azimut\\AppData\\Roaming\\nltk_data...\n",
      "[nltk_data]   Package stopwords is already up-to-date!\n"
     ]
    },
    {
     "data": {
      "text/plain": [
       "True"
      ]
     },
     "execution_count": 6,
     "metadata": {},
     "output_type": "execute_result"
    }
   ],
   "source": [
    "nltk.download('wordnet')\n",
    "nltk.download('stopwords')"
   ]
  },
  {
   "cell_type": "code",
   "execution_count": 7,
   "metadata": {
    "id": "5f6f6SV8ow3s"
   },
   "outputs": [],
   "source": [
    "Path = \"./\""
   ]
  },
  {
   "cell_type": "code",
   "execution_count": 8,
   "metadata": {},
   "outputs": [],
   "source": [
    "def ReadParquet(FName):\n",
    "    return pandas.read_parquet(FName, engine = 'fastparquet')\n",
    "\n",
    "def SaveParquet(DFrame, FName):\n",
    "    DFrame.to_parquet(FName, engine = 'fastparquet', compression = 'gzip')"
   ]
  },
  {
   "cell_type": "markdown",
   "metadata": {},
   "source": [
    "# Reading source data"
   ]
  },
  {
   "cell_type": "code",
   "execution_count": 37,
   "metadata": {
    "colab": {
     "base_uri": "https://localhost:8080/"
    },
    "id": "_SXezqFy6RTt",
    "outputId": "649797d2-beea-4e80-9c0e-ed9d7e65b02c"
   },
   "outputs": [
    {
     "data": {
      "text/plain": [
       "(12000, 4)"
      ]
     },
     "execution_count": 37,
     "metadata": {},
     "output_type": "execute_result"
    }
   ],
   "source": [
    "TestDF = ReadParquet(Path + 'test.parquet').reset_index()\n",
    "TestDF.shape"
   ]
  },
  {
   "cell_type": "code",
   "execution_count": 38,
   "metadata": {
    "colab": {
     "base_uri": "https://localhost:8080/",
     "height": 289
    },
    "id": "cezttQHV_e8H",
    "outputId": "b4605e2c-5062-4425-bc32-d6c5e80b3f43"
   },
   "outputs": [
    {
     "data": {
      "text/html": [
       "<div>\n",
       "<style scoped>\n",
       "    .dataframe tbody tr th:only-of-type {\n",
       "        vertical-align: middle;\n",
       "    }\n",
       "\n",
       "    .dataframe tbody tr th {\n",
       "        vertical-align: top;\n",
       "    }\n",
       "\n",
       "    .dataframe thead th {\n",
       "        text-align: right;\n",
       "    }\n",
       "</style>\n",
       "<table border=\"1\" class=\"dataframe\">\n",
       "  <thead>\n",
       "    <tr style=\"text-align: right;\">\n",
       "      <th></th>\n",
       "      <th>Id</th>\n",
       "      <th>Body</th>\n",
       "      <th>Tags</th>\n",
       "      <th>Title</th>\n",
       "    </tr>\n",
       "  </thead>\n",
       "  <tbody>\n",
       "    <tr>\n",
       "      <th>0</th>\n",
       "      <td>46785369</td>\n",
       "      <td>I was given a decision tree with sample data i...</td>\n",
       "      <td>&lt;math&gt;&lt;machine-learning&gt;&lt;artificial-intelligen...</td>\n",
       "      <td>Desecion trees ended up with same given tree a...</td>\n",
       "    </tr>\n",
       "    <tr>\n",
       "      <th>1</th>\n",
       "      <td>38908667</td>\n",
       "      <td>&lt;p&gt;I am moving a test application over to Xcod...</td>\n",
       "      <td>&lt;ios&gt;&lt;swift&gt;&lt;swift3&gt;&lt;xcode8&gt;&lt;nserror&gt;</td>\n",
       "      <td>Value of type 'Error' has no member 'code'</td>\n",
       "    </tr>\n",
       "    <tr>\n",
       "      <th>2</th>\n",
       "      <td>44703012</td>\n",
       "      <td>&lt;p&gt;I would like to be able to perform linting ...</td>\n",
       "      <td>&lt;jenkins&gt;&lt;jenkins-pipeline&gt;</td>\n",
       "      <td>How do I lint Jenkins pipelines from the comma...</td>\n",
       "    </tr>\n",
       "    <tr>\n",
       "      <th>3</th>\n",
       "      <td>34910435</td>\n",
       "      <td>&lt;p&gt;I’m using &lt;a href=\"https://github.com/ftlab...</td>\n",
       "      <td>&lt;javascript&gt;&lt;css&gt;&lt;mobile-safari&gt;&lt;fastclick.js&gt;...</td>\n",
       "      <td>Is there a way to prevent fastclick from firin...</td>\n",
       "    </tr>\n",
       "    <tr>\n",
       "      <th>4</th>\n",
       "      <td>51632121</td>\n",
       "      <td>I have some 5 Test cases and I want them to ke...</td>\n",
       "      <td>&lt;android&gt;&lt;testing&gt;&lt;appium&gt;&lt;katalon-studio&gt;</td>\n",
       "      <td>How to loop test cases in katalon Studio?</td>\n",
       "    </tr>\n",
       "  </tbody>\n",
       "</table>\n",
       "</div>"
      ],
      "text/plain": [
       "         Id                                               Body  \\\n",
       "0  46785369  I was given a decision tree with sample data i...   \n",
       "1  38908667  <p>I am moving a test application over to Xcod...   \n",
       "2  44703012  <p>I would like to be able to perform linting ...   \n",
       "3  34910435  <p>I’m using <a href=\"https://github.com/ftlab...   \n",
       "4  51632121  I have some 5 Test cases and I want them to ke...   \n",
       "\n",
       "                                                Tags  \\\n",
       "0  <math><machine-learning><artificial-intelligen...   \n",
       "1              <ios><swift><swift3><xcode8><nserror>   \n",
       "2                        <jenkins><jenkins-pipeline>   \n",
       "3  <javascript><css><mobile-safari><fastclick.js>...   \n",
       "4         <android><testing><appium><katalon-studio>   \n",
       "\n",
       "                                               Title  \n",
       "0  Desecion trees ended up with same given tree a...  \n",
       "1         Value of type 'Error' has no member 'code'  \n",
       "2  How do I lint Jenkins pipelines from the comma...  \n",
       "3  Is there a way to prevent fastclick from firin...  \n",
       "4          How to loop test cases in katalon Studio?  "
      ]
     },
     "execution_count": 38,
     "metadata": {},
     "output_type": "execute_result"
    }
   ],
   "source": [
    "TestDF.head()"
   ]
  },
  {
   "cell_type": "code",
   "execution_count": 39,
   "metadata": {
    "colab": {
     "base_uri": "https://localhost:8080/"
    },
    "id": "uRAJZgTd4zXx",
    "outputId": "96815367-29a4-4a9f-d1b1-c78a65b8b6b4"
   },
   "outputs": [
    {
     "data": {
      "text/plain": [
       "(48000, 5)"
      ]
     },
     "execution_count": 39,
     "metadata": {},
     "output_type": "execute_result"
    }
   ],
   "source": [
    "TrainDF = ReadParquet(Path + 'train.parquet').reset_index()\n",
    "TrainDF.shape"
   ]
  },
  {
   "cell_type": "code",
   "execution_count": 40,
   "metadata": {
    "colab": {
     "base_uri": "https://localhost:8080/",
     "height": 289
    },
    "id": "sfLLZcii_iu3",
    "outputId": "36e6f89e-1850-4995-eb1b-f009295338d0"
   },
   "outputs": [
    {
     "data": {
      "text/html": [
       "<div>\n",
       "<style scoped>\n",
       "    .dataframe tbody tr th:only-of-type {\n",
       "        vertical-align: middle;\n",
       "    }\n",
       "\n",
       "    .dataframe tbody tr th {\n",
       "        vertical-align: top;\n",
       "    }\n",
       "\n",
       "    .dataframe thead th {\n",
       "        text-align: right;\n",
       "    }\n",
       "</style>\n",
       "<table border=\"1\" class=\"dataframe\">\n",
       "  <thead>\n",
       "    <tr style=\"text-align: right;\">\n",
       "      <th></th>\n",
       "      <th>Id</th>\n",
       "      <th>Body</th>\n",
       "      <th>Tags</th>\n",
       "      <th>Title</th>\n",
       "      <th>target</th>\n",
       "    </tr>\n",
       "  </thead>\n",
       "  <tbody>\n",
       "    <tr>\n",
       "      <th>0</th>\n",
       "      <td>34862324</td>\n",
       "      <td>Algorithmm:\\r\\n\\r\\n**input :** Graph G\\r\\n\\r\\n...</td>\n",
       "      <td>&lt;java&gt;&lt;algorithm&gt;&lt;graph-algorithm&gt;</td>\n",
       "      <td>I am implementing a Minimum Spanning Forrest a...</td>\n",
       "      <td>2</td>\n",
       "    </tr>\n",
       "    <tr>\n",
       "      <th>1</th>\n",
       "      <td>47303682</td>\n",
       "      <td>While converting the data frame to HTML, Date ...</td>\n",
       "      <td>&lt;html&gt;&lt;r&gt;&lt;dataframe&gt;</td>\n",
       "      <td>R Studio: Date is getting converted to number,...</td>\n",
       "      <td>2</td>\n",
       "    </tr>\n",
       "    <tr>\n",
       "      <th>2</th>\n",
       "      <td>46431243</td>\n",
       "      <td>&lt;p&gt;This should be an easy one, but somehow I c...</td>\n",
       "      <td>&lt;python&gt;&lt;pandas&gt;&lt;dataframe&gt;&lt;pandas-groupby&gt;</td>\n",
       "      <td>Pandas - dataframe groupby - how to get sum of...</td>\n",
       "      <td>0</td>\n",
       "    </tr>\n",
       "    <tr>\n",
       "      <th>3</th>\n",
       "      <td>45306324</td>\n",
       "      <td>&lt;p&gt;Let say I have a component in Angular 2 tha...</td>\n",
       "      <td>&lt;angular&gt;&lt;typescript&gt;&lt;rxjs&gt;</td>\n",
       "      <td>Casting results from Observable.forkJoin to th...</td>\n",
       "      <td>0</td>\n",
       "    </tr>\n",
       "    <tr>\n",
       "      <th>4</th>\n",
       "      <td>49479547</td>\n",
       "      <td>&lt;p&gt;I'm setting a var using \\n&lt;code&gt;set TEST_VA...</td>\n",
       "      <td>&lt;c&gt;&lt;windows&gt;&lt;batch-file&gt;</td>\n",
       "      <td>Environment variable set in batch file cannot ...</td>\n",
       "      <td>1</td>\n",
       "    </tr>\n",
       "  </tbody>\n",
       "</table>\n",
       "</div>"
      ],
      "text/plain": [
       "         Id                                               Body  \\\n",
       "0  34862324  Algorithmm:\\r\\n\\r\\n**input :** Graph G\\r\\n\\r\\n...   \n",
       "1  47303682  While converting the data frame to HTML, Date ...   \n",
       "2  46431243  <p>This should be an easy one, but somehow I c...   \n",
       "3  45306324  <p>Let say I have a component in Angular 2 tha...   \n",
       "4  49479547  <p>I'm setting a var using \\n<code>set TEST_VA...   \n",
       "\n",
       "                                          Tags  \\\n",
       "0           <java><algorithm><graph-algorithm>   \n",
       "1                         <html><r><dataframe>   \n",
       "2  <python><pandas><dataframe><pandas-groupby>   \n",
       "3                  <angular><typescript><rxjs>   \n",
       "4                     <c><windows><batch-file>   \n",
       "\n",
       "                                               Title  target  \n",
       "0  I am implementing a Minimum Spanning Forrest a...       2  \n",
       "1  R Studio: Date is getting converted to number,...       2  \n",
       "2  Pandas - dataframe groupby - how to get sum of...       0  \n",
       "3  Casting results from Observable.forkJoin to th...       0  \n",
       "4  Environment variable set in batch file cannot ...       1  "
      ]
     },
     "execution_count": 40,
     "metadata": {},
     "output_type": "execute_result"
    }
   ],
   "source": [
    "TrainDF.head()"
   ]
  },
  {
   "cell_type": "code",
   "execution_count": 41,
   "metadata": {
    "colab": {
     "base_uri": "https://localhost:8080/",
     "height": 277
    },
    "id": "NTc9WG4aMqaM",
    "outputId": "88afacc1-8370-4bd4-8b76-2392827e48b8"
   },
   "outputs": [
    {
     "data": {
      "image/png": "[encoded data removed]",
      "text/plain": [
       "<Figure size 432x288 with 1 Axes>"
      ]
     },
     "metadata": {},
     "output_type": "display_data"
    }
   ],
   "source": [
    "DevNull = TrainDF[\"target\"].value_counts().plot.pie(subplots = True, legend = True, autopct = '%2.3f%%', title = \"Отношение классов\")"
   ]
  },
  {
   "cell_type": "markdown",
   "metadata": {
    "id": "1IMSjkq868c3"
   },
   "source": [
    "# Preprocessing data"
   ]
  },
  {
   "cell_type": "markdown",
   "metadata": {
    "id": "b5S1fZySXiMG"
   },
   "source": [
    "## Removing punctuation and extra spaces"
   ]
  },
  {
   "cell_type": "code",
   "execution_count": 42,
   "metadata": {
    "colab": {
     "base_uri": "https://localhost:8080/"
    },
    "id": "1GX6oide6eox",
    "outputId": "44196b85-3bf2-43a2-d8c2-13722a57880d"
   },
   "outputs": [
    {
     "data": {
      "text/plain": [
       "'I was given a decision tree with sample data in class to solve After computing the gaining splitting tree with the sample data provided I ended up with the same tree that was in the question What does that mean Can someone explain what happened there math machine learning artificial intelligence decision tree entropy Desecion trees ended up with same given tree after gain split computation '"
      ]
     },
     "execution_count": 42,
     "metadata": {},
     "output_type": "execute_result"
    }
   ],
   "source": [
    "TestDF[\"Text\"] = TestDF.Body + \" \" + TestDF.Tags + \" \" + TestDF.Title\n",
    "TestDF[\"Text\"] = TestDF[\"Text\"].apply(lambda text: re.sub(r'[^(a-zA-Z)\\s]', ' ', text))\n",
    "TestDF[\"Text\"] = TestDF[\"Text\"].apply(lambda text: re.sub('^\\s+|\\n|\\r|\\s+$', ' ', text))\n",
    "TestDF[\"Text\"] = TestDF[\"Text\"].apply(lambda text: re.sub('\\ {2,}', ' ', text))\n",
    "TestDF[\"Text\"][0]"
   ]
  },
  {
   "cell_type": "code",
   "execution_count": 43,
   "metadata": {
    "colab": {
     "base_uri": "https://localhost:8080/"
    },
    "id": "rRdiN8iVDosU",
    "outputId": "4468300d-b60c-4487-df6e-ea4ca88da78f"
   },
   "outputs": [
    {
     "data": {
      "text/plain": [
       "'Algorithmm input Graph G output Set of MSTs T begin T null E G Edges for all vertices in G Create a tree t having single vertex b add t to T end for repeat Find an edge e E having minimum weight such that one end belongs to t T and the other end does not belongs to any of the trees in T Add e to t until e NULL I m stuck on the logic for the highlighted block I ve used simple objects for vertex edge and tree And for their sets used array of Objects java algorithm graph algorithm I am implementing a Minimum Spanning Forrest algorihm in java But stuck on how to write a loop'"
      ]
     },
     "execution_count": 43,
     "metadata": {},
     "output_type": "execute_result"
    }
   ],
   "source": [
    "TrainDF[\"Text\"] = TrainDF.Body + \" \" + TrainDF.Tags + \" \" + TrainDF.Title\n",
    "TrainDF[\"Text\"] = TrainDF[\"Text\"].apply(lambda text: re.sub(r'[^(a-zA-Z)\\s]', ' ', text))\n",
    "TrainDF[\"Text\"] = TrainDF[\"Text\"].apply(lambda text: re.sub('^\\s+|\\n|\\r|\\s+$', ' ', text))\n",
    "TrainDF[\"Text\"] = TrainDF[\"Text\"].apply(lambda text: re.sub('\\ {2,}', ' ', text))\n",
    "TrainDF[\"Text\"][0]"
   ]
  },
  {
   "cell_type": "markdown",
   "metadata": {
    "id": "zMGPsBu8XnSN"
   },
   "source": [
    "## Checking for invalid values (NA and Null)"
   ]
  },
  {
   "cell_type": "code",
   "execution_count": 44,
   "metadata": {
    "colab": {
     "base_uri": "https://localhost:8080/"
    },
    "id": "c1EbZhHtOBAt",
    "outputId": "5ebde7fd-8d99-4c57-be9d-4a7b4949f616"
   },
   "outputs": [
    {
     "name": "stdout",
     "output_type": "stream",
     "text": [
      "TestDF:\n",
      " ID:\n",
      "  NA = 0\n",
      "  Null = 0\n"
     ]
    }
   ],
   "source": [
    "print(\"TestDF:\")\n",
    "print(\" ID:\")\n",
    "print(\"  NA = \" + str(TestDF[\"Id\"].isna().sum()))\n",
    "print(\"  Null = \" + str(TestDF[\"Id\"].isnull().sum()))"
   ]
  },
  {
   "cell_type": "code",
   "execution_count": 45,
   "metadata": {
    "colab": {
     "base_uri": "https://localhost:8080/"
    },
    "id": "mDq32oHnPVtO",
    "outputId": "8b8729de-ab94-47e2-e84c-4ca6b4130a98"
   },
   "outputs": [
    {
     "name": "stdout",
     "output_type": "stream",
     "text": [
      "TrainDF:\n",
      " ID:\n",
      "  NA = 0\n",
      "  Null = 0\n",
      " target:\n",
      "  NA = 0\n",
      "  Null = 0\n"
     ]
    }
   ],
   "source": [
    "print(\"TrainDF:\")\n",
    "print(\" ID:\")\n",
    "print(\"  NA = \" + str(TrainDF[\"Id\"].isna().sum()))\n",
    "print(\"  Null = \" + str(TrainDF[\"Id\"].isnull().sum()))\n",
    "print(\" target:\")\n",
    "print(\"  NA = \" + str(TrainDF[\"target\"].isna().sum()))\n",
    "print(\"  Null = \" + str(TrainDF[\"target\"].isnull().sum()))"
   ]
  },
  {
   "cell_type": "markdown",
   "metadata": {
    "id": "XwnEMckrQxEC"
   },
   "source": [
    "No invalid values :)"
   ]
  },
  {
   "cell_type": "markdown",
   "metadata": {
    "id": "3AmusBpIXyQ_"
   },
   "source": [
    "## Tokenizing"
   ]
  },
  {
   "cell_type": "code",
   "execution_count": 46,
   "metadata": {
    "colab": {
     "base_uri": "https://localhost:8080/"
    },
    "id": "ACew-PCGX1fd",
    "outputId": "980ac1ce-d43d-4b52-c192-ac5ffd22df63"
   },
   "outputs": [
    {
     "data": {
      "text/plain": [
       "0    [i, was, given, a, decision, tree, with, sampl...\n",
       "1    [p, i, am, moving, a, test, application, over,...\n",
       "2    [p, i, would, like, to, be, able, to, perform,...\n",
       "3    [p, i, m, using, a, href, https, github, com, ...\n",
       "4    [i, have, some, test, cases, and, i, want, the...\n",
       "Name: Text, dtype: object"
      ]
     },
     "execution_count": 46,
     "metadata": {},
     "output_type": "execute_result"
    }
   ],
   "source": [
    "Tokenizer = WordPunctTokenizer()\n",
    "TestDF[\"Text\"] = TestDF[\"Text\"].apply(lambda text: Tokenizer.tokenize(text.lower()))\n",
    "TestDF[\"Text\"].head()"
   ]
  },
  {
   "cell_type": "code",
   "execution_count": 47,
   "metadata": {
    "colab": {
     "base_uri": "https://localhost:8080/"
    },
    "id": "C0SnVeVAZ9TE",
    "outputId": "f438aa73-6510-4ae9-cfbb-e27d3a752ca3"
   },
   "outputs": [
    {
     "data": {
      "text/plain": [
       "0    [algorithmm, input, graph, g, output, set, of,...\n",
       "1    [while, converting, the, data, frame, to, html...\n",
       "2    [p, this, should, be, an, easy, one, but, some...\n",
       "3    [p, let, say, i, have, a, component, in, angul...\n",
       "4    [p, i, m, setting, a, var, using, code, set, t...\n",
       "Name: Text, dtype: object"
      ]
     },
     "execution_count": 47,
     "metadata": {},
     "output_type": "execute_result"
    }
   ],
   "source": [
    "TrainDF[\"Text\"] = TrainDF[\"Text\"].apply(lambda text: Tokenizer.tokenize(text.lower()))\n",
    "TrainDF[\"Text\"].head()"
   ]
  },
  {
   "cell_type": "markdown",
   "metadata": {
    "id": "6MhtDCxlaSBG"
   },
   "source": [
    "## Counting and removing stop words"
   ]
  },
  {
   "cell_type": "code",
   "execution_count": 48,
   "metadata": {
    "id": "xN9VGKeyGORs"
   },
   "outputs": [],
   "source": [
    "# Length of word must be greater than \"2\". No explanation, just intuition :)\n",
    "def GetStopwords(text):\n",
    "    StopWords = []\n",
    "    for w in text:\n",
    "        if (w in stopwords.words(\"english\")) or (len(w) <= 2):\n",
    "            StopWords.append(w)\n",
    "    return StopWords\n",
    "\n",
    "def RemoveStopwords(text):\n",
    "    PureWords = []\n",
    "    for w in text:\n",
    "        if w not in stopwords.words(\"english\") and len(w) > 2:\n",
    "            PureWords.append(w)\n",
    "    return PureWords"
   ]
  },
  {
   "cell_type": "code",
   "execution_count": 49,
   "metadata": {
    "colab": {
     "base_uri": "https://localhost:8080/"
    },
    "id": "Jz-vwqinGQFy",
    "outputId": "bb4ca241-f9a6-463b-99ab-950500b6c4fd"
   },
   "outputs": [
    {
     "data": {
      "text/html": [
       "<div>\n",
       "<style scoped>\n",
       "    .dataframe tbody tr th:only-of-type {\n",
       "        vertical-align: middle;\n",
       "    }\n",
       "\n",
       "    .dataframe tbody tr th {\n",
       "        vertical-align: top;\n",
       "    }\n",
       "\n",
       "    .dataframe thead th {\n",
       "        text-align: right;\n",
       "    }\n",
       "</style>\n",
       "<table border=\"1\" class=\"dataframe\">\n",
       "  <thead>\n",
       "    <tr style=\"text-align: right;\">\n",
       "      <th></th>\n",
       "      <th>Id</th>\n",
       "      <th>Body</th>\n",
       "      <th>Tags</th>\n",
       "      <th>Title</th>\n",
       "      <th>Text</th>\n",
       "      <th>Stop</th>\n",
       "      <th>NumOfStopwords</th>\n",
       "    </tr>\n",
       "  </thead>\n",
       "  <tbody>\n",
       "    <tr>\n",
       "      <th>0</th>\n",
       "      <td>46785369</td>\n",
       "      <td>I was given a decision tree with sample data i...</td>\n",
       "      <td>&lt;math&gt;&lt;machine-learning&gt;&lt;artificial-intelligen...</td>\n",
       "      <td>Desecion trees ended up with same given tree a...</td>\n",
       "      <td>[given, decision, tree, sample, data, class, s...</td>\n",
       "      <td>[i, was, a, with, in, to, after, the, with, th...</td>\n",
       "      <td>29</td>\n",
       "    </tr>\n",
       "    <tr>\n",
       "      <th>1</th>\n",
       "      <td>38908667</td>\n",
       "      <td>&lt;p&gt;I am moving a test application over to Xcod...</td>\n",
       "      <td>&lt;ios&gt;&lt;swift&gt;&lt;swift3&gt;&lt;xcode8&gt;&lt;nserror&gt;</td>\n",
       "      <td>Value of type 'Error' has no member 'code'</td>\n",
       "      <td>[moving, test, application, xcode, beta, conve...</td>\n",
       "      <td>[p, i, am, a, over, to, and, my, to, i, am, wi...</td>\n",
       "      <td>37</td>\n",
       "    </tr>\n",
       "    <tr>\n",
       "      <th>2</th>\n",
       "      <td>44703012</td>\n",
       "      <td>&lt;p&gt;I would like to be able to perform linting ...</td>\n",
       "      <td>&lt;jenkins&gt;&lt;jenkins-pipeline&gt;</td>\n",
       "      <td>How do I lint Jenkins pipelines from the comma...</td>\n",
       "      <td>[would, like, able, perform, linting, jenkins,...</td>\n",
       "      <td>[p, i, to, be, to, on, and, it, that, is, not,...</td>\n",
       "      <td>24</td>\n",
       "    </tr>\n",
       "    <tr>\n",
       "      <th>3</th>\n",
       "      <td>34910435</td>\n",
       "      <td>&lt;p&gt;I’m using &lt;a href=\"https://github.com/ftlab...</td>\n",
       "      <td>&lt;javascript&gt;&lt;css&gt;&lt;mobile-safari&gt;&lt;fastclick.js&gt;...</td>\n",
       "      <td>Is there a way to prevent fastclick from firin...</td>\n",
       "      <td>[using, href, https, github, com, ftlabs, fast...</td>\n",
       "      <td>[p, i, m, a, a, on, a, with, because, i, to, t...</td>\n",
       "      <td>66</td>\n",
       "    </tr>\n",
       "    <tr>\n",
       "      <th>4</th>\n",
       "      <td>51632121</td>\n",
       "      <td>I have some 5 Test cases and I want them to ke...</td>\n",
       "      <td>&lt;android&gt;&lt;testing&gt;&lt;appium&gt;&lt;katalon-studio&gt;</td>\n",
       "      <td>How to loop test cases in katalon Studio?</td>\n",
       "      <td>[test, cases, want, keep, running, times, orde...</td>\n",
       "      <td>[i, have, some, and, i, them, to, for, in, how...</td>\n",
       "      <td>22</td>\n",
       "    </tr>\n",
       "  </tbody>\n",
       "</table>\n",
       "</div>"
      ],
      "text/plain": [
       "         Id                                               Body  \\\n",
       "0  46785369  I was given a decision tree with sample data i...   \n",
       "1  38908667  <p>I am moving a test application over to Xcod...   \n",
       "2  44703012  <p>I would like to be able to perform linting ...   \n",
       "3  34910435  <p>I’m using <a href=\"https://github.com/ftlab...   \n",
       "4  51632121  I have some 5 Test cases and I want them to ke...   \n",
       "\n",
       "                                                Tags  \\\n",
       "0  <math><machine-learning><artificial-intelligen...   \n",
       "1              <ios><swift><swift3><xcode8><nserror>   \n",
       "2                        <jenkins><jenkins-pipeline>   \n",
       "3  <javascript><css><mobile-safari><fastclick.js>...   \n",
       "4         <android><testing><appium><katalon-studio>   \n",
       "\n",
       "                                               Title  \\\n",
       "0  Desecion trees ended up with same given tree a...   \n",
       "1         Value of type 'Error' has no member 'code'   \n",
       "2  How do I lint Jenkins pipelines from the comma...   \n",
       "3  Is there a way to prevent fastclick from firin...   \n",
       "4          How to loop test cases in katalon Studio?   \n",
       "\n",
       "                                                Text  \\\n",
       "0  [given, decision, tree, sample, data, class, s...   \n",
       "1  [moving, test, application, xcode, beta, conve...   \n",
       "2  [would, like, able, perform, linting, jenkins,...   \n",
       "3  [using, href, https, github, com, ftlabs, fast...   \n",
       "4  [test, cases, want, keep, running, times, orde...   \n",
       "\n",
       "                                                Stop  NumOfStopwords  \n",
       "0  [i, was, a, with, in, to, after, the, with, th...              29  \n",
       "1  [p, i, am, a, over, to, and, my, to, i, am, wi...              37  \n",
       "2  [p, i, to, be, to, on, and, it, that, is, not,...              24  \n",
       "3  [p, i, m, a, a, on, a, with, because, i, to, t...              66  \n",
       "4  [i, have, some, and, i, them, to, for, in, how...              22  "
      ]
     },
     "execution_count": 49,
     "metadata": {},
     "output_type": "execute_result"
    }
   ],
   "source": [
    "TestDF[\"Stop\"] = TestDF[\"Text\"].apply(GetStopwords)\n",
    "TestDF[\"NumOfStopwords\"] = TestDF[\"Stop\"].apply(lambda text: len(text))\n",
    "TestDF[\"Text\"] = TestDF[\"Text\"].apply(RemoveStopwords)\n",
    "TestDF.head()"
   ]
  },
  {
   "cell_type": "code",
   "execution_count": null,
   "metadata": {
    "colab": {
     "base_uri": "https://localhost:8080/"
    },
    "id": "uXkA_RQzaoE7",
    "outputId": "f9834995-4681-4e56-a637-5b723feaecab"
   },
   "outputs": [],
   "source": [
    "TrainDF[\"Stop\"] = TrainDF[\"Text\"].apply(GetStopwords)\n",
    "TrainDF[\"NumOfStopwords\"] = TrainDF[\"Stop\"].apply(lambda text: len(text))\n",
    "TrainDF[\"Text\"] = TrainDF[\"Text\"].apply(RemoveStopwords)\n",
    "TrainDF.head()"
   ]
  },
  {
   "cell_type": "markdown",
   "metadata": {
    "id": "o7xpePcnRTMg"
   },
   "source": [
    "## Lemmatization"
   ]
  },
  {
   "cell_type": "code",
   "execution_count": 50,
   "metadata": {
    "id": "aom4WYuyRarZ"
   },
   "outputs": [],
   "source": [
    "def Lemmatize(text):\n",
    "    Lemmatizer = WordNetLemmatizer()\n",
    "    Words = []\n",
    "    for w in text:\n",
    "        Words.append(Lemmatizer.lemmatize(w))\n",
    "    return Words\n",
    "\n",
    "TestDF[\"Text\"] = TestDF[\"Text\"].apply(Lemmatize)\n",
    "TrainDF[\"Text\"] = TrainDF[\"Text\"].apply(Lemmatize)"
   ]
  },
  {
   "cell_type": "markdown",
   "metadata": {
    "id": "YeYKT1r_ax7T"
   },
   "source": [
    "# Extra features"
   ]
  },
  {
   "cell_type": "code",
   "execution_count": 51,
   "metadata": {
    "id": "4mV7zPO0a8tV"
   },
   "outputs": [],
   "source": [
    "# Number of tags\n",
    "TestDF[\"NumOfTags\"] = TestDF[\"Tags\"].apply(lambda text: len(re.findall('<', text)))\n",
    "TrainDF[\"NumOfTags\"] = TrainDF[\"Tags\"].apply(lambda text: len(re.findall('<', text)))"
   ]
  },
  {
   "cell_type": "code",
   "execution_count": 52,
   "metadata": {
    "id": "cOepqau5JcUq"
   },
   "outputs": [],
   "source": [
    "# Number of words\n",
    "TestDF[\"NumOfWords\"] = TestDF[\"Text\"].apply(lambda text: len(text))\n",
    "TrainDF[\"NumOfWords\"] = TrainDF[\"Text\"].apply(lambda text: len(text))"
   ]
  },
  {
   "cell_type": "code",
   "execution_count": 53,
   "metadata": {
    "id": "t-_NUVPkLdWd"
   },
   "outputs": [],
   "source": [
    "# Number of letters\n",
    "def NumberOfLetters(text):\n",
    "    counter = 0\n",
    "    for w in text:\n",
    "        counter += len(w)\n",
    "    return counter\n",
    "\n",
    "TestDF[\"NumOfLetters\"] = TestDF[\"Text\"].apply(NumberOfLetters)\n",
    "TrainDF[\"NumOfLetters\"] = TrainDF[\"Text\"].apply(NumberOfLetters)"
   ]
  },
  {
   "cell_type": "code",
   "execution_count": 74,
   "metadata": {},
   "outputs": [],
   "source": [
    "def MakeFullText(text):\n",
    "    string = \"\"\n",
    "    for w in text:\n",
    "        string += w + \" \"\n",
    "    return string"
   ]
  },
  {
   "cell_type": "code",
   "execution_count": 75,
   "metadata": {},
   "outputs": [],
   "source": [
    "TestDF[\"FullText\"] = TestDF[\"Text\"].apply(MakeFullText)\n",
    "TrainDF[\"FullText\"] = TrainDF[\"Text\"].apply(MakeFullText)"
   ]
  },
  {
   "cell_type": "code",
   "execution_count": 76,
   "metadata": {
    "scrolled": false
   },
   "outputs": [],
   "source": [
    "SaveParquet(TestDF, Path + \"test.preprocessed.parquet\")\n",
    "SaveParquet(TrainDF, Path + \"train.preprocessed.parquet\")"
   ]
  },
  {
   "cell_type": "markdown",
   "metadata": {
    "id": "NWuizQh3hyd_"
   },
   "source": [
    "# One Hot Encoding"
   ]
  },
  {
   "cell_type": "code",
   "execution_count": null,
   "metadata": {
    "id": "2EiRgN_0oPGf"
   },
   "outputs": [],
   "source": [
    "# Load preprocessed data frames\n",
    "# TestDF = ReadParquet(Path + \"test.preprocessed.parquet\")\n",
    "# TrainDF = ReadParquet(Path + \"train.preprocessed.parquet\")"
   ]
  },
  {
   "cell_type": "code",
   "execution_count": null,
   "metadata": {
    "id": "LvvVnVrONBYN"
   },
   "outputs": [],
   "source": [
    "# Я, если честно, понимая, насколько огромным получится словарь, \n",
    "# не стал насиловать свои 8Gb RAM и 12Gb RAM Collab'а."
   ]
  },
  {
   "cell_type": "markdown",
   "metadata": {
    "id": "wWMAkbB5TNe9"
   },
   "source": [
    "# Word2Vec"
   ]
  },
  {
   "cell_type": "code",
   "execution_count": 9,
   "metadata": {
    "id": "mL-rcs-4TQZH"
   },
   "outputs": [],
   "source": [
    "# Load preprocessed data frames\n",
    "# TestDF = ReadParquet(Path + \"test.preprocessed.parquet\")\n",
    "# TrainDF = ReadParquet(Path + \"train.preprocessed.parquet\")"
   ]
  },
  {
   "cell_type": "code",
   "execution_count": 11,
   "metadata": {
    "id": "m01vtqqHXJgr"
   },
   "outputs": [],
   "source": [
    "W2V_OurModel = Word2Vec(TrainDF[\"Text\"].values, min_count = 1, size = 100, window = 5)\n",
    "# W2V_OurModel.wv.save(Path + 'W2V_OurModel.model')"
   ]
  },
  {
   "cell_type": "code",
   "execution_count": 95,
   "metadata": {},
   "outputs": [],
   "source": [
    "def ConvertTextIntoVec(text, model):\n",
    "    arr = []\n",
    "    for w in text:\n",
    "        try:\n",
    "            arr.append(model.wv.get_vector(w))\n",
    "        except:\n",
    "            continue\n",
    "    return arr"
   ]
  },
  {
   "cell_type": "code",
   "execution_count": 23,
   "metadata": {
    "scrolled": true
   },
   "outputs": [],
   "source": [
    "Test_W2V_Our = pandas.DataFrame(columns = ['W2V Our'])\n",
    "Train_W2V_Our = pandas.DataFrame(columns = ['W2V Our'])\n",
    "Test_W2V_Our[\"W2V Our\"] = TestDF[\"Text\"].apply(ConvertTextIntoVec, args = [W2V_OurModel])\n",
    "Train_W2V_Our[\"W2V Our\"] = TrainDF[\"Text\"].apply(ConvertTextIntoVec, args = [W2V_OurModel])"
   ]
  },
  {
   "cell_type": "code",
   "execution_count": 94,
   "metadata": {},
   "outputs": [],
   "source": [
    "# Loading pretrained model\n",
    "W2V_PreModel = KeyedVectors.load_word2vec_format(Path + \"W2V-GoogleNews-vectors-negative300.bin\", binary = True)"
   ]
  },
  {
   "cell_type": "code",
   "execution_count": 97,
   "metadata": {
    "scrolled": true
   },
   "outputs": [
    {
     "name": "stderr",
     "output_type": "stream",
     "text": [
      "<ipython-input-95-4de70f88808d>:5: DeprecationWarning: Call to deprecated `wv` (Attribute will be removed in 4.0.0, use self instead).\n",
      "  arr.append(model.wv.get_vector(w))\n"
     ]
    }
   ],
   "source": [
    "Test_W2V_Pre = pandas.DataFrame(columns = ['W2V Pre'])\n",
    "Train_W2V_Pre = pandas.DataFrame(columns = ['W2V Pre'])\n",
    "Test_W2V_Pre[\"W2V Pre\"] = TestDF[\"Text\"].apply(ConvertTextIntoVec, args = [W2V_PreModel])\n",
    "Train_W2V_Pre[\"W2V Pre\"] = TrainDF[\"Text\"].apply(ConvertTextIntoVec, args = [W2V_PreModel])"
   ]
  },
  {
   "cell_type": "markdown",
   "metadata": {},
   "source": [
    "# Fasttext"
   ]
  },
  {
   "cell_type": "code",
   "execution_count": null,
   "metadata": {},
   "outputs": [],
   "source": [
    "# Load preprocessed data frames\n",
    "# TestDF = ReadParquet(Path + \"test.preprocessed.parquet\")\n",
    "# TrainDF = ReadParquet(Path + \"train.preprocessed.parquet\")"
   ]
  },
  {
   "cell_type": "code",
   "execution_count": 81,
   "metadata": {},
   "outputs": [],
   "source": [
    "FT = FastText(size = 4, window = 5, min_count = 1)\n",
    "FT.build_vocab(sentences = TrainDF[\"FullText\"].tolist())"
   ]
  },
  {
   "cell_type": "code",
   "execution_count": 82,
   "metadata": {},
   "outputs": [],
   "source": [
    "FT.train(sentences = TrainDF[\"FullText\"].tolist(), epochs = FT.epochs, \n",
    "         total_examples = FT.corpus_count, total_words = FT.corpus_total_words)"
   ]
  },
  {
   "cell_type": "code",
   "execution_count": 85,
   "metadata": {},
   "outputs": [],
   "source": [
    "Test_FT = pandas.DataFrame(columns = ['Fasttext'])\n",
    "Train_FT = pandas.DataFrame(columns = ['Fasttext'])\n",
    "Test_FT[\"Fasttext\"] = TestDF[\"Text\"].apply(ConvertTextIntoVec, args = [FT])\n",
    "Train_FT[\"Fasttext\"] = TrainDF[\"Text\"].apply(ConvertTextIntoVec, args = [FT])"
   ]
  },
  {
   "cell_type": "code",
   "execution_count": null,
   "metadata": {},
   "outputs": [
    {
     "name": "stderr",
     "output_type": "stream",
     "text": [
      "<ipython-input-100-122e679cee45>:2: DeprecationWarning: Call to deprecated `load_fasttext_format` (use load_facebook_vectors (to use pretrained embeddings) or load_facebook_model (to continue training with the loaded full model, more RAM) instead).\n",
      "  FT_Pre = FastText.load_fasttext_format(Path + 'fasttext-wiki.en.bin')\n"
     ]
    }
   ],
   "source": [
    "# Loading pretrained model\n",
    "# FT_Pre = FastText.load_fasttext_format(Path + 'fasttext-wiki.en.bin')\n",
    "# 8Гб оперативки вышли из чата"
   ]
  },
  {
   "cell_type": "code",
   "execution_count": null,
   "metadata": {},
   "outputs": [],
   "source": [
    "# Test_FT_Pre = pandas.DataFrame(columns = ['Fasttext Pre'])\n",
    "# Train_FT_Pre = pandas.DataFrame(columns = ['Fasttext Pre'])\n",
    "# Test_FT_Pre[\"Fasttext Pre\"] = TestDF[\"Text\"].apply(ConvertTextIntoVec, args = [FT_Pre])\n",
    "# Train_FT_Pre[\"Fasttext Pre\"] = TrainDF[\"Text\"].apply(ConvertTextIntoVec, args = [FT_Pre])"
   ]
  },
  {
   "cell_type": "markdown",
   "metadata": {},
   "source": [
    "# Bag of Words"
   ]
  },
  {
   "cell_type": "code",
   "execution_count": null,
   "metadata": {},
   "outputs": [],
   "source": [
    "# Load preprocessed data frames\n",
    "# TestDF = ReadParquet(Path + \"test.preprocessed.parquet\")\n",
    "# TrainDF = ReadParquet(Path + \"train.preprocessed.parquet\")"
   ]
  },
  {
   "cell_type": "code",
   "execution_count": 69,
   "metadata": {},
   "outputs": [],
   "source": [
    "BOW = CountVectorizer()\n",
    "Test_BOW = BOW.fit_transform(TestDF[\"FullText\"])\n",
    "Train_BOW = BOW.fit_transform(TrainDF[\"FullText\"])"
   ]
  },
  {
   "cell_type": "markdown",
   "metadata": {},
   "source": [
    "# TF-IDF"
   ]
  },
  {
   "cell_type": "code",
   "execution_count": 58,
   "metadata": {},
   "outputs": [],
   "source": [
    "# Load preprocessed data frames\n",
    "# TestDF = ReadParquet(Path + \"test.preprocessed.parquet\")\n",
    "# TrainDF = ReadParquet(Path + \"train.preprocessed.parquet\")"
   ]
  },
  {
   "cell_type": "code",
   "execution_count": 70,
   "metadata": {},
   "outputs": [],
   "source": [
    "TF_IDF = TfidfVectorizer()\n",
    "Test_TDIDF = TF_IDF.fit_transform(TestDF[\"FullText\"])\n",
    "Train_TDIDF = TF_IDF.fit_transform(TrainDF[\"FullText\"])"
   ]
  }
 ],
 "metadata": {
  "accelerator": "GPU",
  "colab": {
   "collapsed_sections": [
    "b5S1fZySXiMG",
    "zMGPsBu8XnSN",
    "3AmusBpIXyQ_",
    "6MhtDCxlaSBG",
    "o7xpePcnRTMg",
    "YeYKT1r_ax7T"
   ],
   "name": "NLP Lab1.ipynb",
   "provenance": [],
   "toc_visible": true
  },
  "kernelspec": {
   "display_name": "Python 3",
   "language": "python",
   "name": "python3"
  },
  "language_info": {
   "codemirror_mode": {
    "name": "ipython",
    "version": 3
   },
   "file_extension": ".py",
   "mimetype": "text/x-python",
   "name": "python",
   "nbconvert_exporter": "python",
   "pygments_lexer": "ipython3",
   "version": "3.8.3"
  }
 },
 "nbformat": 4,
 "nbformat_minor": 1
}
