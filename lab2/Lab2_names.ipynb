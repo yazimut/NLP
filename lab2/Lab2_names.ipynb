{
  "nbformat": 4,
  "nbformat_minor": 0,
  "metadata": {
    "colab": {
      "name": "NLP_lab_2.ipynb",
      "provenance": [],
      "collapsed_sections": [
        "hupxCsWvE6CJ"
      ],
      "toc_visible": true
    },
    "kernelspec": {
      "name": "python3",
      "display_name": "Python 3"
    }
  },
  "cells": [
    {
      "cell_type": "code",
      "metadata": {
        "id": "-pNhGLUJGysl"
      },
      "source": [
        "!pip install natasha\n",
        "!pip install yargy\n",
        "!pip install ipymarkup\n",
        "!pip install graphviz"
      ],
      "execution_count": null,
      "outputs": []
    },
    {
      "cell_type": "code",
      "metadata": {
        "id": "aVzMoyPNMLUx"
      },
      "source": [
        "from yargy import rule, Parser, or_, and_, not_\n",
        "from yargy.predicates import eq, type,gram, is_capitalized\n",
        "from ipymarkup import show_span_ascii_markup as show_markup\n",
        "from yargy.pipelines import morph_pipeline\n",
        "from yargy.interpretation import fact\n",
        "from yargy.predicates import gram\n",
        "from yargy.relations import gnc_relation\n",
        "from yargy.pipelines import morph_pipeline\n"
      ],
      "execution_count": 4,
      "outputs": []
    },
    {
      "cell_type": "markdown",
      "metadata": {
        "id": "hupxCsWvE6CJ"
      },
      "source": [
        "#Data"
      ]
    },
    {
      "cell_type": "markdown",
      "metadata": {
        "id": "0mQQWlN1ECZk"
      },
      "source": [
        "##Names"
      ]
    },
    {
      "cell_type": "code",
      "metadata": {
        "colab": {
          "base_uri": "https://localhost:8080/"
        },
        "id": "_rKaphyEEHyO",
        "outputId": "ce9e60d0-1b64-4fe7-a01e-2c155b6ca881"
      },
      "source": [
        "import pandas as pd\r\n",
        "import numpy as np\r\n",
        "Path = \"/content/drive/MyDrive/NLP2/\"\r\n",
        "names = pd.read_csv(Path + 'russian_names.csv')\r\n",
        "surn =  pd.read_csv(Path + 'russian_surnames.csv')\r\n",
        "names_list = []\r\n",
        "surnames_list = []\r\n",
        "for name in names.Name:\r\n",
        "  names_list.append(name)\r\n",
        "for sname in surn.Surname:\r\n",
        "  surnames_list.append(sname)  \r\n",
        "surnames_list[:10]"
      ],
      "execution_count": 401,
      "outputs": [
        {
          "output_type": "execute_result",
          "data": {
            "text/plain": [
              "['Аалферов',\n",
              " 'Аалферова',\n",
              " 'Ааль',\n",
              " 'Ааман',\n",
              " 'Аамана',\n",
              " 'Ааманая',\n",
              " 'Ааманий',\n",
              " 'Аандреев',\n",
              " 'Аандреева',\n",
              " 'Аарон']"
            ]
          },
          "metadata": {
            "tags": []
          },
          "execution_count": 401
        }
      ]
    },
    {
      "cell_type": "markdown",
      "metadata": {
        "id": "WegqyOx-FEMg"
      },
      "source": [
        "#Code"
      ]
    },
    {
      "cell_type": "markdown",
      "metadata": {
        "id": "0KvTLuk4ml5A"
      },
      "source": [
        "##Name extractor"
      ]
    },
    {
      "cell_type": "code",
      "metadata": {
        "id": "U9SyCPmsscrP"
      },
      "source": [
        "\r\n",
        "def PersonNERHypothesis(text):\r\n",
        "  text = text.title().split()\r\n",
        "  new = ''\r\n",
        "  mc = 0\r\n",
        "  nc = 0\r\n",
        "  sc = 0\r\n",
        "  namesl = []\r\n",
        "  surnl= []\r\n",
        "  for word in text:\r\n",
        "    for name in names_list:\r\n",
        "      if name in word and (word.endswith('вна') or word.endswith('ич')) and mc == 0:\r\n",
        "        new += word + ' '\r\n",
        "        # print('add middle')\r\n",
        "        mc = 1\r\n",
        "      if name == word and nc == 0:\r\n",
        "        namesl = [name]\r\n",
        "        new += name + ' '\r\n",
        "        # print('add name')\r\n",
        "        nc = 1\r\n",
        "      if nc == 1 and mc == 1:\r\n",
        "        break\r\n",
        "\r\n",
        "  for word in text:\r\n",
        "    for name in surnames_list:\r\n",
        "      if name == word:\r\n",
        "        surnl = [name]\r\n",
        "        new += name + ' '\r\n",
        "        # print(surnl)\r\n",
        "        sc = 1\r\n",
        "        break\r\n",
        "    if sc ==1:\r\n",
        "      break   \r\n",
        "      \r\n",
        "\r\n",
        "  Full_name = fact(\r\n",
        "      'Name',\r\n",
        "      ['name','surn','middle']\r\n",
        "  )\r\n",
        "  ABBR = gram('Abbr')\r\n",
        "  TITLE = is_capitalized()\r\n",
        "  PATR = and_(\r\n",
        "      gram('Patr'),\r\n",
        "      not_(ABBR)\r\n",
        "  )\r\n",
        "\r\n",
        "  MIDDLE = PATR.interpretation(\r\n",
        "      Full_name.middle\r\n",
        "  )\r\n",
        "\r\n",
        "  MIDDLE_ABBR = and_(\r\n",
        "      ABBR,\r\n",
        "      TITLE\r\n",
        "  ).interpretation(\r\n",
        "      Full_name.middle\r\n",
        "  )\r\n",
        "\r\n",
        "  NAME = morph_pipeline(namesl).interpretation(\r\n",
        "      Full_name.name.normalized()\r\n",
        "  )\r\n",
        "\r\n",
        "  SURN = morph_pipeline(surnl).interpretation(\r\n",
        "      Full_name.surn.normalized()\r\n",
        "  )\r\n",
        "\r\n",
        "  gnc = gnc_relation()\r\n",
        "  FULL_NAME = or_(\r\n",
        "      rule(\r\n",
        "        NAME.interpretation(Full_name.name).optional(),\r\n",
        "        SURN.interpretation(Full_name.surn).optional(),\r\n",
        "        MIDDLE.interpretation(Full_name.middle).optional(),\r\n",
        "  ),rule(\r\n",
        "        SURN.interpretation(Full_name.surn).optional(),\r\n",
        "        MIDDLE.interpretation(Full_name.middle).optional(),\r\n",
        "        NAME.interpretation(Full_name.name).optional()\r\n",
        "  ),rule(\r\n",
        "        NAME.interpretation(Full_name.name).optional(),\r\n",
        "        MIDDLE.interpretation(Full_name.middle).optional(),\r\n",
        "        SURN.interpretation(Full_name.surn).optional()\r\n",
        "  )\r\n",
        "  ).interpretation(\r\n",
        "      Full_name\r\n",
        "  )\r\n",
        "\r\n",
        "  parser = Parser(FULL_NAME)\r\n",
        "\r\n",
        "\r\n",
        "  # print(new)\r\n",
        "  try:\r\n",
        "    match = parser.match(new)\r\n",
        "    match.fact\r\n",
        "    first = match.fact.name\r\n",
        "    middle = match.fact.middle\r\n",
        "    last = match.fact.surn\r\n",
        "    # print((match.fact))\r\n",
        "    \r\n",
        "  except ValueError:  \r\n",
        "    first = None\r\n",
        "    middle = None\r\n",
        "    last = None\r\n",
        "\r\n",
        "  return first, middle, last"
      ],
      "execution_count": 418,
      "outputs": []
    },
    {
      "cell_type": "markdown",
      "metadata": {
        "id": "gnR-bEeo_tJt"
      },
      "source": [
        "##Test case"
      ]
    },
    {
      "cell_type": "code",
      "metadata": {
        "colab": {
          "base_uri": "https://localhost:8080/"
        },
        "id": "eSD6nNdQnRsE",
        "outputId": "fdaeb8b5-5b5c-407e-fe14-be8884e786a6"
      },
      "source": [
        "#Не разобрался как использовать unittests, делаю так :)\r\n",
        "testing_address = ['Иванов Петр Васильевич','шипицын дмитрий вячеславович','елена владимировна','басалаева юлия михайловна','ну я как раз по фамилии есть смотри мам',\r\n",
        "                   'глушенков власти на android','фамилию сказать что за фамилия терентьева людмила','анюта','р1 артем витальевич','фитнес веретельников олег викторович']\r\n",
        "valid = [('Петр','Васильевич','Иванов'),('Дмитрий','Вячеславович','Шипицын'),('Елена','Владимировна',None),('Юлия','Михайловна','Басалаева'),(None, None, None), (None,None, 'Глушенков'),\r\n",
        "         ('Людмила', None, 'Терентьева'), ('Анюта',None,None), ('Артем','Витальевич',None), ('Олег','Викторович','Веретельников')]\r\n",
        "for test in range(len(valid)):\r\n",
        "  personNER = PersonNERHypothesis(testing_address[test])\r\n",
        "  print('Test: ', test ,' ', personNER == valid[test])\r\n",
        "\r\n"
      ],
      "execution_count": 419,
      "outputs": [
        {
          "output_type": "stream",
          "text": [
            "Test:  0   True\n",
            "Test:  1   True\n",
            "Test:  2   True\n",
            "Test:  3   True\n",
            "Test:  4   True\n",
            "Test:  5   True\n",
            "Test:  6   True\n",
            "Test:  7   True\n",
            "Test:  8   True\n",
            "Test:  9   True\n"
          ],
          "name": "stdout"
        }
      ]
    }
  ]
}